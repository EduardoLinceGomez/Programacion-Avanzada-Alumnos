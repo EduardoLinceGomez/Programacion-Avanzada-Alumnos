{
 "cells": [
  {
   "cell_type": "markdown",
   "metadata": {},
   "source": [
    "# Ejercicio 1\n",
    "- Haz una gráfica de comparación de los tiempos de ejecución entre el algoritmo dado por la función `mochila_01_completa` que está en el archivo [ProblemaMochilaSoluciones.ipynb](./../ProblemaDeLaMochila/ProblemaMochilaSoluciones.ipynb) y la función `mochila_fuerza_bruta` que se encuentra en el archivo [PracticaProgramacionDinamicaSol.ipynb](./PracticaProgramacionDinamicaSol.ipynb).\n",
    "- Usa como referencia la función `tiemposDeEjecucion` del archivo [PracticaProgramacionDinamicaSol.ipynb](./PracticaProgramacionDinamicaSol.ipynb)."
   ]
  },
  {
   "cell_type": "markdown",
   "metadata": {},
   "source": [
    "<!-- -->"
   ]
  },
  {
   "cell_type": "code",
   "execution_count": null,
   "metadata": {
    "vscode": {
     "languageId": "plaintext"
    }
   },
   "outputs": [],
   "source": []
  },
  {
   "cell_type": "markdown",
   "metadata": {},
   "source": [
    "¿Por qué esta es una mejor comparación que la que se hizo en [PracticaProgramacionDinamicaSol.ipynb](./PracticaProgramacionDinamicaSol.ipynb) en la sección Pruebas y comparación?"
   ]
  },
  {
   "cell_type": "markdown",
   "metadata": {},
   "source": [
    "## Ejercicio 2\n",
    "\n",
    "- Implemeta el algoritmo de la mochila utilizando fuerza bruta en c++ y guardalo en un archivo llamado `MochilaFuerzaBruta.cpp` \n",
    "- Prueba su funcionamiento con el ejemplo visto en clase. \n",
    "- Usa como referencia el archivo [Mochila.cpp](./../ProblemaDeLaMochila/Mochila.cpp) y la función `mochila_fuerza_bruta` ubicada en el archivo [PracticaProgramacionDinamicaSol.ipynb](./PracticaProgramacionDinamicaSol.ipynb) "
   ]
  },
  {
   "cell_type": "code",
   "execution_count": null,
   "metadata": {
    "vscode": {
     "languageId": "plaintext"
    }
   },
   "outputs": [],
   "source": []
  },
  {
   "cell_type": "markdown",
   "metadata": {},
   "source": [
    "**Nota** Si usas IA, ¡Asegurate de entender el código completamente!"
   ]
  },
  {
   "cell_type": "markdown",
   "metadata": {},
   "source": [
    "## Ejercico Extra 1\n",
    "\n",
    "- Investiga que herramienta existe en c++ para calcular los tiempos de ejecución e implementala haciendo una analogía a la función `tiemposDeEjecucion` del archivo [PracticaProgramacionDinamicaSol.ipynb](./PracticaProgramacionDinamicaSol.ipynb)."
   ]
  },
  {
   "cell_type": "code",
   "execution_count": null,
   "metadata": {
    "vscode": {
     "languageId": "plaintext"
    }
   },
   "outputs": [],
   "source": []
  },
  {
   "cell_type": "markdown",
   "metadata": {},
   "source": [
    "## Ejercicio Extra 2\n",
    "- Investiga como funciona el manejo de errores en c++ e implementa el algoritmo de la mochila con validación en un archivo `MochilaConValidacion.cpp` que sea analogo a la función `mochila_01_con_verificacion` que se encuentra en el archivo [ProblemaMochilaSoluciones.ipynb](./../ProblemaDeLaMochila/ProblemaMochilaSoluciones.ipynb) "
   ]
  },
  {
   "cell_type": "code",
   "execution_count": null,
   "metadata": {
    "vscode": {
     "languageId": "plaintext"
    }
   },
   "outputs": [],
   "source": []
  }
 ],
 "metadata": {
  "language_info": {
   "name": "python"
  }
 },
 "nbformat": 4,
 "nbformat_minor": 2
}
