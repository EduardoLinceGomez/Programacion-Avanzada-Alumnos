{
 "cells": [
  {
   "cell_type": "markdown",
   "metadata": {},
   "source": [
    "# Problema de la mochila"
   ]
  },
  {
   "cell_type": "markdown",
   "metadata": {},
   "source": [
    "## Ejercicio 1\n",
    "Implementa una función que resuelva el problema de la mochila usando fuerza bruta. Es decir, una función que calcule todas las posibilidades de la mochila y obtenga la solución comparando todas esas posibilidades. "
   ]
  },
  {
   "cell_type": "code",
   "execution_count": 2,
   "metadata": {},
   "outputs": [],
   "source": [
    "def mochila_fuerza_bruta(valor, peso, Capacidad):\n",
    "    \"\"\"\n",
    "    Resuelve el problema de la mochila 0-1 utilizando fuerza bruta.\n",
    "    \n",
    "    La función evalúa todas las combinaciones posibles de objetos para determinar\n",
    "    la solución óptima, es decir, el conjunto de objetos que maximiza el valor total\n",
    "    sin exceder la capacidad dada.\n",
    "    \n",
    "    Parámetros:\n",
    "      valor (list[int]): Lista de valores de los objetos.\n",
    "      peso (list[int]): Lista de pesos de los objetos.\n",
    "      Capacidad (int): Capacidad máxima de la mochila.\n",
    "    \n",
    "    Retorna:\n",
    "      tuple: (max_valor, objetos_incluidos) donde max_valor es el valor máximo obtenido y\n",
    "             objetos_incluidos es la lista de índices de los objetos seleccionados.\n",
    "    \"\"\"\n",
    "    n = len(valor)\n",
    "    valor_max = 0\n",
    "    objetos_incluidos = []\n",
    "    # Itera sobre todas las combinaciones posibles (2^n)\n",
    "    for subconjunto in range(1 << n):  # Equivale a 2**n\n",
    "        valor_actual = 0\n",
    "        peso_actual = 0\n",
    "        objetos_actuales = []\n",
    "        for j in range(n):\n",
    "            # Si el j-ésimo bit está encendido en subconjunto, se incluye el objeto j\n",
    "            if subconjunto & (1 << j):\n",
    "                valor_actual += valor[j]\n",
    "                peso_actual += peso[j]\n",
    "                objetos_actuales.append(j)\n",
    "        # Actualiza la solución si la combinación es válida y mejora el valor acumulado\n",
    "        if peso_actual <= Capacidad and valor_actual > valor_max:\n",
    "            valor_max = valor_actual\n",
    "            objetos_incluidos = objetos_actuales\n",
    "    return valor_max, objetos_incluidos\n"
   ]
  },
  {
   "cell_type": "markdown",
   "metadata": {},
   "source": [
    "## Ejercicio 2\n",
    "Adapta la funcion `tiemposDeEjecucion(f,n)` creada en la clase del 14 de febrero en el archivo [ProgramacionDinamica.ipynb](./ProgramacionDinamica.ipynb) para comparar las funciones:\n",
    "- `mochila_fuerza_bruta`\n",
    "- `mochila_01`\n",
    "\n",
    "Es decir, debes hacer una función `tiemposDeEjecucion(f,valor, peso, Capacidad)`.\n",
    "\n",
    "Usa la función `pruebas_mochila` para obtener datos con que comparar. Crea al menos 3 conjuntos de datos de a lo mas 10 elementos para comparar los tiempos de ejecución. \n",
    "\n",
    "**Nota:** El parámetro `semilla` en la función `pruebas_mochila` sirve para generar los mismos datos. Así, por ejemplo si dejamos el argumento `semilla` implicito (sin asignarle valor): `pruebas_mochila(10)` siempre generara los mismos datos. Si cambiamos el parámetro(`pruebas_mochila(10,123456789)`) se generaran nuevos datos por cada semilla que pongamos.\n",
    "\n",
    "## Ejercicio 2.2\n",
    "Implementa un `docstring` a la función `tiemposDeEjecucion(f,valor, peso, Capacidad)`."
   ]
  },
  {
   "cell_type": "code",
   "execution_count": 3,
   "metadata": {},
   "outputs": [],
   "source": [
    "import random\n",
    "def pruebas_mochila(n,semilla = 17022025):\n",
    "    \"\"\"\n",
    "    Genera un caso de prueba para el problema de la mochila utilizando fuerza bruta.\n",
    "    \n",
    "    Se generan 'n' objetos con valores y pesos aleatorios y se define una capacidad basada en la suma de los pesos.\n",
    "    \n",
    "    Parámetros:\n",
    "      n (int): Número de objetos.\n",
    "      \n",
    "    Retorna:\n",
    "      tuple: (valor, peso, Capacidad) donde valor y peso son listas de 'n' elementos con los valores y pesos de los objetos,\n",
    "             respectivamente, y Capacidad es la capacidad máxima de la mochila\n",
    "    \"\"\"\n",
    "    \n",
    "    random.seed(semilla) # Fijar la semilla para reproducibilidad\n",
    "    valor = [random.randint(1, 50) for _ in range(n)]\n",
    "    peso = [random.randint(1, 20) for _ in range(n)]\n",
    "    Capacidad = sum(peso) // 2  # Capacidad definida como la mitad de la suma de los pesos\n",
    "    return valor, peso, Capacidad\n"
   ]
  },
  {
   "cell_type": "markdown",
   "metadata": {},
   "source": [
    "## Medición de los tiempos de ejecución\n",
    "Para realizar esta medición lo que hacemos es dados los datos del problema de la mochila: `valor, peso, Capacidad` tomamos los tiempos de ejecución para todos los subproblemas aumentando los objetos y tomando una Capacidad constante. Es decir, vamos aumentando objetos y midiendo la ejecución del problema con esos objetos hasta incluir todos los objetos. "
   ]
  },
  {
   "cell_type": "code",
   "execution_count": null,
   "metadata": {},
   "outputs": [],
   "source": [
    "import time\n",
    "def tiemposDeEjecucion(f, valor, peso, Capacidad):\n",
    "    n = len(valor)\n",
    "    tiempos = []\n",
    "    for i in range(n + 1):\n",
    "        tiempo_inicio = time.time()\n",
    "        f(valor[:i], peso[:i], Capacidad)\n",
    "        tiempo_final = time.time()\n",
    "        tiempos.append(tiempo_final - tiempo_inicio)\n",
    "    return tiempos"
   ]
  },
  {
   "cell_type": "markdown",
   "metadata": {},
   "source": [
    "## Mochila con programación dinámica"
   ]
  },
  {
   "cell_type": "code",
   "execution_count": 5,
   "metadata": {},
   "outputs": [],
   "source": [
    "def mochila_01(valor, peso, Capacidad):\n",
    "    \"\"\"\n",
    "    Resuelve el problema de la mochila 0-1 usando programación dinámica.\n",
    "    \n",
    "    Se asume que:\n",
    "      - valor es una lista de enteros que representa el valor de cada objeto.\n",
    "      - peso es una lista de enteros que representa el peso de cada objeto.\n",
    "      - Capacidad es un entero positivo que representa la capacidad máxima de la mochila.\n",
    "    \n",
    "    Parámetros:\n",
    "      valor (list of int): Valores de los objetos.\n",
    "      peso (list of int): Pesos de los objetos.\n",
    "      Capacidad (int): Capacidad máxima de la mochila.\n",
    "      \n",
    "    Retorna:\n",
    "      int: El valor máximo acumulado que se puede obtener con la capacidad dada.\n",
    "      list of list of int: La tabla de programación dinámica utilizada para la solución.\n",
    "    \n",
    "    Ejemplo:\n",
    "      >>> valor = [6, 12, 10, 2] \n",
    "      >>> peso = [1, 3, 2, 4]\n",
    "      >>> Capacidad = 5\n",
    "      >>> max_valor, tabla = mochila_01(valor, peso, Capacidad)\n",
    "      >>> print(\"La tabla es:\\n\",*tabla, sep=\"\\n\")\n",
    "      \n",
    "      El valor máximo acumulado es: 22\n",
    "      La tabla es:\n",
    "\n",
    "      [0, 0, 0, 0, 0, 0]\n",
    "      [0, 6, 6, 6, 6, 6]\n",
    "      [0, 6, 6, 12, 18, 18]\n",
    "      [0, 6, 10, 16, 18, 22]\n",
    "      [0, 6, 10, 16, 18, 22]\n",
    "    \"\"\"\n",
    "    valor.insert(0,0) # Se inserta un valor ficticio en la posición 0 (Casos base).\n",
    "    peso.insert(0,0)  # Se inserta un valor ficticio en la posición 0 (Casos Base).\n",
    "    n = len(valor) - 1  # Se asume que valor y peso tienen n+1 elementos (posición 0 sin usar)\n",
    "\n",
    "    # Crear la tabla m[0..n][0..Capacidad] inicializada a 0\n",
    "    m = [[0 for _ in range(Capacidad + 1)] for _ in range(n + 1)]\n",
    "    \"\"\"\n",
    "    Ejemplo de tabla:\n",
    "    Capacidad = 3\n",
    "    n = 4\n",
    "    [[0, 0, 0, 0],\n",
    "     [0, 0, 0, 0],\n",
    "     [0, 0, 0, 0],\n",
    "     [0, 0, 0, 0],\n",
    "     [0, 0, 0, 0]]\n",
    "    \"\"\"\n",
    "   \n",
    "    # Inicialización:\n",
    "    # Para subcapacidad desde 0 hasta Capacidad, m[0][subcapacidad] ya es 0.\n",
    "    # Para objeto desde 0 hasta n, m[objeto][0] ya es 0.\n",
    "    \n",
    "    # Llenar la tabla con programación dinámica\n",
    "    for objeto in range(1, n + 1):\n",
    "        for subcapacidad in range(1, Capacidad + 1):\n",
    "            if peso[objeto] > subcapacidad:\n",
    "                m[objeto][subcapacidad] = m[objeto - 1][subcapacidad]\n",
    "            else:\n",
    "                m[objeto][subcapacidad] = max(\n",
    "                    m[objeto - 1][subcapacidad],\n",
    "                    m[objeto - 1][subcapacidad - peso[objeto]] + valor[objeto]\n",
    "                )\n",
    "                \n",
    "    return m[n][Capacidad], m\n"
   ]
  },
  {
   "cell_type": "markdown",
   "metadata": {},
   "source": [
    "## Pruebas y comparación "
   ]
  },
  {
   "cell_type": "code",
   "execution_count": null,
   "metadata": {},
   "outputs": [
    {
     "data": {
      "text/plain": [
       "Text(0.5, 1.0, 'Comparación tiempo de ejecución del algoritmo de la mochila')"
      ]
     },
     "execution_count": 7,
     "metadata": {},
     "output_type": "execute_result"
    },
    {
     "data": {
      "image/png": "[encoded data removed]",
      "text/plain": [
       "<Figure size 640x480 with 1 Axes>"
      ]
     },
     "metadata": {},
     "output_type": "display_data"
    }
   ],
   "source": [
    "# Pruebas\n",
    "n = 10\n",
    "valor, peso, Capacidad = pruebas_mochila(n)\n",
    "# Se obtienen los tiempos de ejecución para cada tamaño de entrada\n",
    "tiempos_fuerza_bruta = tiemposDeEjecucion(mochila_fuerza_bruta, valor, peso, Capacidad)\n",
    "\n",
    "tiempos_pogramacion_din = tiemposDeEjecucion(mochila_01, valor, peso, Capacidad)\n",
    "\n",
    "# Gráfica\n",
    "import matplotlib.pyplot as plt \n",
    "plt.plot(range(n + 1), tiempos_fuerza_bruta, label=\"Fuerza bruta\")\n",
    "plt.plot(range(n + 1), tiempos_pogramacion_din, label=\"Programación dinámica\")\n",
    "plt.legend()\n",
    "plt.xlabel(\"Número de objetos\")\n",
    "plt.ylabel(\"Tiempo de ejecución (s)\")\n",
    "plt.title(\"Comparación tiempo de ejecución del algoritmo de la mochila\")"
   ]
  },
  {
   "cell_type": "markdown",
   "metadata": {},
   "source": [
    "## Ejercicio Extra\n",
    "Implementa el algoritmo de la mochila con programación dinámica en c++."
   ]
  },
  {
   "cell_type": "markdown",
   "metadata": {},
   "source": [
    "```cpp\n",
    "#include <iostream>\n",
    "#include <vector>\n",
    "using namespace std;\n",
    "\n",
    "// Función para resolver el problema de la mochila 0-1 usando programación dinámica\n",
    "pair<int, vector<vector<int>>> mochila_01(vector<int> valor, vector<int> peso, int Capacidad) {\n",
    "    // Se inserta un valor ficticio en la posición 0 para manejar los casos base\n",
    "    valor.insert(valor.begin(), 0);\n",
    "    peso.insert(peso.begin(), 0);\n",
    "    int n = valor.size() - 1; // Número de objetos\n",
    "    \n",
    "    // Crear la tabla m[0..n][0..Capacidad] inicializada a 0\n",
    "    vector<vector<int>> m(n + 1, vector<int>(Capacidad + 1, 0));\n",
    "    \n",
    "    // Llenar la tabla con programación dinámica\n",
    "    for (int objeto = 1; objeto <= n; objeto++) {\n",
    "        for (int subcapacidad = 1; subcapacidad <= Capacidad; subcapacidad++) {\n",
    "            if (peso[objeto] > subcapacidad) {\n",
    "                m[objeto][subcapacidad] = m[objeto - 1][subcapacidad];\n",
    "            } else {\n",
    "                m[objeto][subcapacidad] = max(\n",
    "                    m[objeto - 1][subcapacidad], \n",
    "                    m[objeto - 1][subcapacidad - peso[objeto]] + valor[objeto]\n",
    "                );\n",
    "            }\n",
    "        }\n",
    "    }\n",
    "    \n",
    "    // Retornar el valor máximo acumulado y la tabla de programación dinámica\n",
    "    return {m[n][Capacidad], m};\n",
    "}\n",
    "\n",
    "int main() {\n",
    "    // Datos de entrada: valores, pesos y capacidad máxima\n",
    "    vector<int> valor = {6, 12, 10, 2}; \n",
    "    vector<int> peso = {1, 3, 2, 4};\n",
    "    int Capacidad = 5;\n",
    "    \n",
    "    // Llamada a la función\n",
    "    pair<int, vector<vector<int>>> resultado = mochila_01(valor, peso, Capacidad);\n",
    "    int max_valor = resultado.first;\n",
    "    vector<vector<int>> tabla = resultado.second;\n",
    "    \n",
    "    // Mostrar el valor máximo acumulado\n",
    "    cout << \"El valor maximo acumulado es: \" << max_valor << endl;\n",
    "    cout << \"La tabla de programación dinamica es: \" << endl;\n",
    "    \n",
    "    // Mostrar la tabla de programación dinámica\n",
    "    for (int i = 0; i < tabla.size(); i++) {\n",
    "        for (int j = 0; j < tabla[i].size(); j++) {\n",
    "            cout << tabla[i][j] << \" \";\n",
    "        }\n",
    "        cout << endl;\n",
    "    }\n",
    "    \n",
    "    return 0;\n",
    "}\n",
    "```"
   ]
  },
  {
   "cell_type": "markdown",
   "metadata": {},
   "source": [
    "El archivo esta guardado como [Mochila.cpp](./../ProblemaDeLaMochila/Mochila.cpp)"
   ]
  },
  {
   "cell_type": "markdown",
   "metadata": {},
   "source": [
    "## Mochila Fuerza bruta en C++"
   ]
  },
  {
   "cell_type": "markdown",
   "metadata": {},
   "source": []
  }
 ],
 "metadata": {
  "kernelspec": {
   "display_name": "Python 3",
   "language": "python",
   "name": "python3"
  },
  "language_info": {
   "codemirror_mode": {
    "name": "ipython",
    "version": 3
   },
   "file_extension": ".py",
   "mimetype": "text/x-python",
   "name": "python",
   "nbconvert_exporter": "python",
   "pygments_lexer": "ipython3",
   "version": "3.13.1"
  }
 },
 "nbformat": 4,
 "nbformat_minor": 2
}
