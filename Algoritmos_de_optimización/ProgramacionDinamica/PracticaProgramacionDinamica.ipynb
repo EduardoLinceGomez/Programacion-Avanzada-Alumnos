{
 "cells": [
  {
   "cell_type": "markdown",
   "metadata": {},
   "source": [
    "# Problema de la mochila"
   ]
  },
  {
   "cell_type": "markdown",
   "metadata": {},
   "source": [
    "## Ejercicio 1\n",
    "Implementa una función que resuelva el problema de la mochila usando fuerza bruta. Es decir, una función que calcule todas las posibilidades de la mochila y obtenga la solución comparando todas esas posibilidades. "
   ]
  },
  {
   "cell_type": "code",
   "execution_count": null,
   "metadata": {},
   "outputs": [],
   "source": [
    "def mochila_fuerza_bruta(valor, peso, Capacidad):\n",
    "    \"\"\"\n",
    "    Resuelve el problema de la mochila 0-1 utilizando fuerza bruta.\n",
    "    \n",
    "    La función evalúa todas las combinaciones posibles de objetos para determinar\n",
    "    la solución óptima, es decir, el conjunto de objetos que maximiza el valor total\n",
    "    sin exceder la capacidad dada.\n",
    "    \n",
    "    Parámetros:\n",
    "      valor (list[int]): Lista de valores de los objetos.\n",
    "      peso (list[int]): Lista de pesos de los objetos.\n",
    "      Capacidad (int): Capacidad máxima de la mochila.\n",
    "    \n",
    "    Retorna:\n",
    "      tuple: (max_valor, items_included) donde max_valor es el valor máximo obtenido y\n",
    "             items_included es la lista de índices de los objetos seleccionados.\n",
    "    \"\"\"\n",
    "   # Implementación del algoritmo de fuerza bruta\n"
   ]
  },
  {
   "cell_type": "markdown",
   "metadata": {},
   "source": [
    "## Ejercicio 2\n",
    "Usa la funcion `tiemposDeEjecucion(f,n)` creada en la clase del 14 de febrero en el archivo [ProgramacionDinamica.ipynb](./ProgramacionDinamica.ipynb) para comparar las funciones:\n",
    "- `mochila_fuerza_bruta`\n",
    "- `mochila_01`\n",
    "\n",
    "Usa la función `pruebas_mochila` para obtener datos con que comparar. Crea al menos 3 conjuntos de datos de a lo mas 10 elementos para comparar los tiempos de ejecución. \n",
    "\n",
    "**Nota:** El parámetro `semilla` en la función `pruebas_mochila` sirve para generar los mismos datos. Así, por ejemplo si dejamos el argumento `semilla` implicito (sin asignarle valor): `pruebas_mochila(10)` siempre se generaran los mismos datos. Si cambiamos el parámetro: `pruebas_mochila(10,123456789)` se generara nuevos datos por cada semilla que pongamos.\n",
    "\n",
    "## Ejercicio 2.2\n",
    "Implementa un `docstring` a la función `tiemposDeEjecucion(f,n)`."
   ]
  },
  {
   "cell_type": "code",
   "execution_count": 4,
   "metadata": {},
   "outputs": [],
   "source": [
    "import random\n",
    "def pruebas_mochila(n,semilla = 17022025):\n",
    "    \"\"\"\n",
    "    Genera un caso de prueba para el problema de la mochila utilizando fuerza bruta.\n",
    "    \n",
    "    Se generan 'n' objetos con valores y pesos aleatorios y se define una capacidad basada en la suma de los pesos.\n",
    "    \n",
    "    Parámetros:\n",
    "      n (int): Número de objetos.\n",
    "      \n",
    "    Retorna:\n",
    "      tuple: Resultado de la función 'mochila_fuerza_bruta' aplicado al caso de prueba.\n",
    "    \"\"\"\n",
    "    \n",
    "    random.seed(semilla) # Fijar la semilla para reproducibilidad\n",
    "    valor = [random.randint(1, 50) for _ in range(n)]\n",
    "    peso = [random.randint(1, 20) for _ in range(n)]\n",
    "    Capacidad = sum(peso) // 2  # Capacidad definida como la mitad de la suma de los pesos\n",
    "    return mochila_fuerza_bruta(valor, peso, Capacidad)\n"
   ]
  },
  {
   "cell_type": "markdown",
   "metadata": {},
   "source": [
    "## Ejercicio Extra\n",
    "Implementa el algoritmo de la mochila con programación dinámica en c++."
   ]
  },
  {
   "cell_type": "markdown",
   "metadata": {},
   "source": []
  }
 ],
 "metadata": {
  "kernelspec": {
   "display_name": "Python 3",
   "language": "python",
   "name": "python3"
  },
  "language_info": {
   "codemirror_mode": {
    "name": "ipython",
    "version": 3
   },
   "file_extension": ".py",
   "mimetype": "text/x-python",
   "name": "python",
   "nbconvert_exporter": "python",
   "pygments_lexer": "ipython3",
   "version": "3.13.1"
  }
 },
 "nbformat": 4,
 "nbformat_minor": 2
}
