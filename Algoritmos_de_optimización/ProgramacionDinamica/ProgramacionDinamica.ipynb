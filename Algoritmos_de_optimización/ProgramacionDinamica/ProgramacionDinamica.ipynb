{
 "cells": [
  {
   "cell_type": "markdown",
   "metadata": {},
   "source": [
    "# Programación dinámica"
   ]
  },
  {
   "cell_type": "markdown",
   "metadata": {},
   "source": [
    "La **programación dinámica** es una técnica que se usa para resolver problemas dividiéndolos en subproblemas más pequeños, almacenando las soluciones intermedias para evitar cálculos repetitivos. Esto es especialmente útil en problemas que presentan subestructura óptima y superposición de subproblemas, como el problema de cuántas formas puedo subir n escalones utilizando solo saltos de 2 o 3. \n",
    "\n",
    "## Ejercicio 1\n",
    "Implementa una función llamada `caminos` que reciba un entero `n` y regrese de cuántas formas puedo subir n escalones utilizando solo saltos de 2 o 3."
   ]
  },
  {
   "cell_type": "code",
   "execution_count": null,
   "metadata": {},
   "outputs": [
    {
     "data": {
      "text/plain": [
       "1897"
      ]
     },
     "execution_count": 9,
     "metadata": {},
     "output_type": "execute_result"
    }
   ],
   "source": [
    "def caminos(n):\n",
    "    \"\"\" implementacion recursiva de la funcion caminos \"\"\""
   ]
  },
  {
   "cell_type": "markdown",
   "metadata": {},
   "source": [
    "## Sucesión de Fibonacci\n",
    "\n",
    "### Definición\n",
    "\n",
    "La **sucesión de Fibonacci** es una secuencia de números definida recursivamente de la siguiente manera:\n",
    "\n",
    "$$\n",
    "F_0 = 0, \\quad F_1 = 1\n",
    "$$\n",
    "\n",
    "$$\n",
    "F_n = F_{n-1} + F_{n-2}, \\quad \\text{para } n \\geq 2.\n",
    "$$\n",
    "\n",
    "Esto significa que cada término de la sucesión es la suma de los dos anteriores.\n",
    "\n",
    "Los primeros términos de la sucesión de Fibonacci son:\n",
    "\n",
    "$$\n",
    "0, 1, 1, 2, 3, 5, 8, 13, 21, 34, 55, 89, 144, \\dots\n",
    "$$\n",
    "\n",
    "La sucesión de Fibonacci es fundamental en diversas áreas de las matemáticas y otras disciplinas debido a sus propiedades únicas:\n",
    "\n",
    "- **Relación con la razón áurea**: El cociente entre términos consecutivos de la sucesión converge a la **razón áurea** ($\\varphi \\approx 1.618$), que aparece en geometría, arte y naturaleza.\n",
    "- **Aparición en la naturaleza**: La sucesión de Fibonacci modela el crecimiento de poblaciones, la disposición de hojas en plantas, la formación de patrones en caracoles y la estructura de piñas y girasoles.\n"
   ]
  },
  {
   "cell_type": "markdown",
   "metadata": {},
   "source": [
    "## Ejercicio 2\n",
    "Completa el código para programar la función que regresa el $n-$ésimo término de la sucesión:"
   ]
  },
  {
   "cell_type": "code",
   "execution_count": null,
   "metadata": {},
   "outputs": [
    {
     "name": "stdout",
     "output_type": "stream",
     "text": [
      "Fibonacci recursivo de 10: 55\n"
     ]
    }
   ],
   "source": [
    "def fibonacci_recursivo(n):\n",
    "    # Caso base: si n es 0, devuelve 0; si n es 1, devuelve 1.\n",
    "    if n == 0:\n",
    "        return 0\n",
    "    elif n == 1:\n",
    "        return 1\n",
    "    else:\n",
    "        # Se llama recursivamente para n-1 y n-2.\n",
    "        return \"\"\"terminar código\"\"\""
   ]
  },
  {
   "cell_type": "markdown",
   "metadata": {},
   "source": [
    "## La librería `time` en Python\n",
    "\n",
    "La librería `time` es un módulo estándar de Python que proporciona funciones para trabajar con el tiempo en diferentes formas, como obtener la hora actual, medir tiempos de ejecución y pausar la ejecución de un programa.\n",
    "\n",
    "### Funciones principales de `time`\n",
    "\n",
    "1. `time.time()` devuelve el tiempo actual en segundos desde 1970.\n",
    "2. `time.localtime(t)` convierte estos segundos en una estructura de tiempo legible.\n",
    "3. `time.strftime(\"%D %T\", fmt)` formatea la fecha y la hora en un formato más comprensible, donde:\n",
    "\n",
    "   - `%D` representa la fecha en formato `MM/DD/YY`.\n",
    "   - `%T` representa la hora en formato `HH:MM:SS`.\n",
    "\n",
    "Este conjunto de funciones es útil para trabajar con tiempos y fechas en programas que requieren medición de ejecución, programación de eventos o manipulación de datos temporales.\n"
   ]
  },
  {
   "cell_type": "code",
   "execution_count": 47,
   "metadata": {},
   "outputs": [
    {
     "name": "stdout",
     "output_type": "stream",
     "text": [
      "Tiempo actual UTC en segundos: 1739518202.3369179\n",
      "\n",
      "Hora local actual con formato:\n",
      " time.struct_time(tm_year=2025, tm_mon=2, tm_mday=14, tm_hour=1, tm_min=30, tm_sec=2, tm_wday=4, tm_yday=45, tm_isdst=0)\n",
      "\n",
      "Hora local actualcon formato dia y hora:\n",
      " 02/14/25 01:30:02\n"
     ]
    }
   ],
   "source": [
    "import time\n",
    "\n",
    "# Obtener el tiempo actual en segundos\n",
    "t = time.time()\n",
    "print(\"Tiempo actual UTC en segundos:\", t)\n",
    "\n",
    "# Formatear los segundos obtenidos usando localtime()\n",
    "fmt = time.localtime(t)\n",
    "print(\"\\nHora local actual con formato:\\n\", fmt)\n",
    "\n",
    "# Formatear los segundos obtenidos usando strftime()\n",
    "strf = time.strftime(\"%D %T\", fmt)\n",
    "print(\"\\nHora local actualcon formato dia y hora:\\n\", strf)\n"
   ]
  },
  {
   "cell_type": "markdown",
   "metadata": {},
   "source": [
    "Con `time` podemos medir el tiempo de ejecución de la función `fibonacci_recursivo` de la siguiente manera:"
   ]
  },
  {
   "cell_type": "code",
   "execution_count": 22,
   "metadata": {},
   "outputs": [
    {
     "name": "stdout",
     "output_type": "stream",
     "text": [
      "Fibonacci recursivo de 35: 9227465\n",
      "Tiempo de ejecución: 1.5826425552368164 segundos\n"
     ]
    }
   ],
   "source": [
    "import time\n",
    "# Ejemplo de uso:\n",
    "n = 35\n",
    "timepo_inicio = time.time()\n",
    "print(\"Fibonacci recursivo de {}:\".format(n), fibonacci_recursivo(n))\n",
    "timepo_final = time.time()\n",
    "\n",
    "print(\"Tiempo de ejecución:\", timepo_final - timepo_inicio, \"segundos\")"
   ]
  },
  {
   "cell_type": "markdown",
   "metadata": {},
   "source": [
    "## Memoización en Programación Dinámica\n",
    "\n",
    "### ¿Qué es la Memoización?\n",
    "\n",
    "La **memoización** es una técnica de optimización utilizada en programación dinámica para mejorar la eficiencia de funciones recursivas almacenando los resultados de cálculos previos. Si la función se vuelve a llamar con los mismos argumentos, en lugar de recalcular el resultado, simplemente se recupera del almacenamiento (memoria cacheada).\n",
    "\n",
    "Esta técnica es especialmente útil cuando se resuelven problemas que tienen **subproblemas superpuestos**, es decir, cuando la misma función es llamada repetidamente con los mismos parámetros.\n",
    "\n",
    "### Ejemplo de Memoización en Python\n",
    "\n",
    "Sin memoización, una función recursiva puede recalcular los mismos valores múltiples veces, lo que aumenta drásticamente el tiempo de ejecución. \n",
    "## Ejercicio 3\n",
    "Termina el código para una implementación Top-Down de la sucesión de Fibonacci.\n"
   ]
  },
  {
   "cell_type": "code",
   "execution_count": null,
   "metadata": {},
   "outputs": [],
   "source": [
    "def fibonacci_memoizacion(n, memoria=None):\n",
    "    # Inicializar el diccionario si es la primera llamada\n",
    "    if memoria is None:\n",
    "        memoria = {}\n",
    "    # Si el resultado ya está calculado, se devuelve directamente.\n",
    "    if n in memoria:\n",
    "        return memoria[n]\n",
    "    elif n == 0:\n",
    "        return 0\n",
    "    elif n == 1:\n",
    "        return 1\n",
    "    else:\n",
    "        # Se guarda en 'memoria' la suma de los dos resultados recursivos.\n",
    "        memoria[n] = \"\"\"termina el código aquí\"\"\"\n",
    "        return memoria[n]"
   ]
  },
  {
   "cell_type": "code",
   "execution_count": 68,
   "metadata": {},
   "outputs": [
    {
     "name": "stdout",
     "output_type": "stream",
     "text": [
      "Fibonacci con memoizacion de 35: 9227465\n",
      "Tiempo de ejecución: 0.0002124309539794922 segundos\n"
     ]
    }
   ],
   "source": [
    "import time\n",
    "# Ejemplo de uso:\n",
    "n = 35\n",
    "timepo_inicio = time.time()\n",
    "print(\"Fibonacci con memoizacion de {}:\".format(n), fibonacci_memoizacion(n))\n",
    "timepo_final = time.time()\n",
    "\n",
    "print(\"Tiempo de ejecución:\", timepo_final - timepo_inicio, \"segundos\")"
   ]
  },
  {
   "cell_type": "markdown",
   "metadata": {},
   "source": [
    "## Tabulación en Programación Dinámica\n",
    "\n",
    "### ¿Qué es la Tabulación?\n",
    "\n",
    "La **tabulación** es una técnica de programación dinámica que utiliza un enfoque **de abajo hacia arriba (bottom-up)**. En lugar de resolver un problema recursivamente y almacenar los resultados, se construye una tabla (normalmente un **array**) en la que se almacenan las soluciones a los subproblemas, resolviéndolos de manera iterativa.\n",
    "\n",
    "Este método es ideal cuando conocemos el orden en el que deben resolverse los subproblemas, evitando el costo adicional de las llamadas recursivas.\n",
    "\n",
    "### Implementación de Fibonacci con Tabulación\n",
    "\n",
    "El siguiente código muestra cómo calcular la sucesión de Fibonacci utilizando **tabulación**:\n"
   ]
  },
  {
   "cell_type": "markdown",
   "metadata": {},
   "source": [
    "## NOTA:\n",
    "\n",
    "A algunos en clase les aparecia un error en la función `fibonacci_tabulacion` debido a como iniciamos nuetro arreglo correspondiente a `tabla`, les dejo un notebook con muchas de las caracteristicas de los arreglos de datos tipo listas en el documento [Listas.ipynb](./../../Recursos/Listas.ipynb) de nuestra carpeta `Recursos`. OJO: No tiene que saber todo lo que esta en ese documento ya, pero es un buen pretexto para ir engrosando nuestra carpeta de recursos y tener a la mano las herramientas de los arreglos más comunes con los que vamos a trabajar."
   ]
  },
  {
   "cell_type": "markdown",
   "metadata": {},
   "source": [
    "Espro que con esta actualización sean capaces de resolver el error que sale a algunos. No puedo poner una solución general pero si siguen teniendo dudas MANDEME MENSAJE."
   ]
  },
  {
   "cell_type": "code",
   "execution_count": 5,
   "metadata": {},
   "outputs": [],
   "source": [
    "def fibonacci_tabulacion(n):\n",
    "    # Se crea una lista de tamaño n+1, inicializada en 0.\n",
    "    tabla = [0] * (n + 1)\n",
    "    # Casos base: Fibonacci(0)=0 y Fibonacci(1)=1.\n",
    "    tabla[0] = 0\n",
    "    tabla[1] = 1\n",
    "    # Se llena la tabla desde 2 hasta n.\n",
    "    for i in range(2, n + 1):\n",
    "        tabla[i] = tabla[i - 1] + tabla[i - 2]\n",
    "    return tabla[n]\n"
   ]
  },
  {
   "cell_type": "code",
   "execution_count": 70,
   "metadata": {},
   "outputs": [
    {
     "name": "stdout",
     "output_type": "stream",
     "text": [
      "Fibonacci recursivo de 35: 9227465\n",
      "Tiempo de ejecución: 0.00025177001953125 segundos\n"
     ]
    }
   ],
   "source": [
    "import time\n",
    "# Ejemplo de uso:\n",
    "n = 35\n",
    "timepo_inicio = time.time()\n",
    "print(\"Fibonacci recursivo de {}:\".format(n), fibonacci_tabulacion(n))\n",
    "timepo_final = time.time()\n",
    "\n",
    "print(\"Tiempo de ejecución:\", timepo_final - timepo_inicio, \"segundos\")\n"
   ]
  },
  {
   "cell_type": "markdown",
   "metadata": {},
   "source": [
    "## Ejercicio 4\n",
    "Implementa una función que reciba una función de un solo argumento `f(n)` y un entero `n` de forma que la función almacene los tiempos de ejecución de la función para todo los enteros hasta `n`."
   ]
  },
  {
   "cell_type": "code",
   "execution_count": null,
   "metadata": {},
   "outputs": [],
   "source": [
    "def tiemposDeEjecucion(f,n):\n",
    "    \"\"\"Implementa la función tiemposDeEjecucion que recibe una función f y un número n y devuelve los tiempos de ejecución de f para los valores de 0 a n.\"\"\""
   ]
  },
  {
   "cell_type": "markdown",
   "metadata": {},
   "source": [
    "## Ejercicio 5\n",
    "Usa la función `tiemposDeEjecucion(f,n)` para graficar cuanto tardan las funciones:\n",
    "- `fibonacci_recursivo(n)`\n",
    "- `fibonacci_memoizacion(n)`\n",
    "- `fibonacci_tabulacion(n)`\n",
    "\n",
    "para `n` $\\in \\{0,1,2,3,...,30\\}$"
   ]
  },
  {
   "cell_type": "code",
   "execution_count": null,
   "metadata": {},
   "outputs": [],
   "source": [
    "def GraficarTiemposEjecución(f,n):\n",
    "    \"\"\"Implementa la función GraficarTiemposEjecución que recibe una función f y un número n y grafica los tiempos de ejecución de f para los valores de 0 a n.\"\"\""
   ]
  },
  {
   "cell_type": "markdown",
   "metadata": {},
   "source": [
    "¿Qué puedes concluir de las tres funciones que implementan la sucesión de Fibonacci de acuerdo con las gráficas?"
   ]
  },
  {
   "cell_type": "markdown",
   "metadata": {},
   "source": [
    "## Ejercicio Extra\n",
    "Implementa una función con el esquema Top-Down para el problema de subior n escalones con saltos de 2 y 3 escalones únicamente."
   ]
  },
  {
   "cell_type": "code",
   "execution_count": null,
   "metadata": {},
   "outputs": [
    {
     "data": {
      "text/plain": [
       "[]"
      ]
     },
     "execution_count": 27,
     "metadata": {},
     "output_type": "execute_result"
    }
   ],
   "source": [
    "def caminosTopDown(n):\n",
    "    \"\"\"Implementa la función caminos con memoización\"\"\""
   ]
  }
 ],
 "metadata": {
  "kernelspec": {
   "display_name": "Python 3",
   "language": "python",
   "name": "python3"
  },
  "language_info": {
   "codemirror_mode": {
    "name": "ipython",
    "version": 3
   },
   "file_extension": ".py",
   "mimetype": "text/x-python",
   "name": "python",
   "nbconvert_exporter": "python",
   "pygments_lexer": "ipython3",
   "version": "3.13.1"
  }
 },
 "nbformat": 4,
 "nbformat_minor": 2
}
