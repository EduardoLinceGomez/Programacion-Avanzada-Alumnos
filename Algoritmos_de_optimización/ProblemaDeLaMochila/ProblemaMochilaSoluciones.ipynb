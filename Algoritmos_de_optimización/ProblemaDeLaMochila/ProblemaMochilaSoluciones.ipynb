{
 "cells": [
  {
   "cell_type": "markdown",
   "metadata": {},
   "source": [
    "# Problema de la mochila con programación dinámica\n",
    "\n",
    "## Ejercicio 1:\n",
    "- Implementa la función `mochila_01` que resuelva el problema de la mochila usando programación dinámica y el pseudocódigo que se encuentra en el archivo [ProblemaMochila.md](./ProblemaMochila.md). Si tienes dudas del algoritmo, usa la presentación [ProblemaDeLaMochila.pptx](./ProblemaDeLaMochila.pptx) para ver paso a paso la implementación del pseudocódigo.\n",
    "- Los argumentos de la función deben ser:\n",
    "    - valor (list of int): Valores de los objetos, con valor[0] sin utilizar.\n",
    "    - peso (list of int): Pesos de los objetos, con peso[0] sin utilizar.\n",
    "    - Capacidad (int): Capacidad máxima de la mochila.\n",
    "- Los retornos de la función deben ser:\n",
    "    - int: El valor máximo acumulado que se puede obtener con la capacidad dada.\n",
    "    - list of list of int: La tabla de programación dinámica utilizada para la solución."
   ]
  },
  {
   "cell_type": "markdown",
   "metadata": {},
   "source": [
    "### Documentación de código \n",
    "\n",
    "Un `docstring` es una cadena de texto que se coloca al inicio de la definición de una función, clase o módulo para describir su propósito, sus parámetros y su comportamiento. Es una forma de documentación interna del código. La función `help()` en Python utiliza estos docstrings para mostrar la documentación asociada a un objeto, lo que facilita a los desarrolladores y usuarios comprender cómo utilizar esa función o clase sin necesidad de revisar el código fuente."
   ]
  },
  {
   "cell_type": "code",
   "execution_count": 1,
   "metadata": {},
   "outputs": [],
   "source": [
    "def mochila_01(valor, peso, Capacidad):\n",
    "    \"\"\"\n",
    "    Resuelve el problema de la mochila 0-1 usando programación dinámica.\n",
    "    \n",
    "    Se asume que:\n",
    "      - valor es una lista de enteros que representa el valor de cada objeto.\n",
    "      - peso es una lista de enteros que representa el peso de cada objeto.\n",
    "      - Capacidad es un entero positivo que representa la capacidad máxima de la mochila.\n",
    "    \n",
    "    Parámetros:\n",
    "      valor (list of int): Valores de los objetos.\n",
    "      peso (list of int): Pesos de los objetos.\n",
    "      Capacidad (int): Capacidad máxima de la mochila.\n",
    "      \n",
    "    Retorna:\n",
    "      int: El valor máximo acumulado que se puede obtener con la capacidad dada.\n",
    "      list of list of int: La tabla de programación dinámica utilizada para la solución.\n",
    "    \n",
    "    Ejemplo:\n",
    "      >>> valor = [6, 12, 10, 2] \n",
    "      >>> peso = [1, 3, 2, 4]\n",
    "      >>> Capacidad = 5\n",
    "      >>> max_valor, tabla = mochila_01(valor, peso, Capacidad)\n",
    "      >>> print(\"La tabla es:\\n\",*tabla, sep=\"\\n\")\n",
    "      \n",
    "      El valor máximo acumulado es: 22\n",
    "      La tabla es:\n",
    "\n",
    "      [0, 0, 0, 0, 0, 0]\n",
    "      [0, 6, 6, 6, 6, 6]\n",
    "      [0, 6, 6, 12, 18, 18]\n",
    "      [0, 6, 10, 16, 18, 22]\n",
    "      [0, 6, 10, 16, 18, 22]\n",
    "    \"\"\"\n",
    "    valor.insert(0,0) # Se inserta un valor ficticio en la posición 0 (Casos base).\n",
    "    peso.insert(0,0)  # Se inserta un valor ficticio en la posición 0 (Casos Base).\n",
    "    n = len(valor) - 1  # Se asume que valor y peso tienen n+1 elementos (posición 0 sin usar)\n",
    "\n",
    "    # Crear la tabla m[0..n][0..Capacidad] inicializada a 0\n",
    "    m = [[0 for _ in range(Capacidad + 1)] for _ in range(n + 1)]\n",
    "    \"\"\"\n",
    "    Ejemplo de tabla:\n",
    "    Capacidad = 3\n",
    "    n = 4\n",
    "    [[0, 0, 0, 0],\n",
    "     [0, 0, 0, 0],\n",
    "     [0, 0, 0, 0],\n",
    "     [0, 0, 0, 0],\n",
    "     [0, 0, 0, 0]]\n",
    "    \"\"\"\n",
    "   \n",
    "    # Inicialización:\n",
    "    # Para subcapacidad desde 0 hasta Capacidad, m[0][subcapacidad] ya es 0.\n",
    "    # Para objeto desde 0 hasta n, m[objeto][0] ya es 0.\n",
    "    \n",
    "    # Llenar la tabla con programación dinámica\n",
    "    for objeto in range(1, n + 1):\n",
    "        for subcapacidad in range(1, Capacidad + 1):\n",
    "            if peso[objeto] > subcapacidad:\n",
    "                m[objeto][subcapacidad] = m[objeto - 1][subcapacidad]\n",
    "            else:\n",
    "                m[objeto][subcapacidad] = max(\n",
    "                    m[objeto - 1][subcapacidad],\n",
    "                    m[objeto - 1][subcapacidad - peso[objeto]] + valor[objeto]\n",
    "                )\n",
    "                \n",
    "    return m[n][Capacidad], m\n"
   ]
  },
  {
   "cell_type": "markdown",
   "metadata": {},
   "source": [
    "Verifica que tu función en efecto resuelva el problema usando el ejemplo de clase:"
   ]
  },
  {
   "cell_type": "code",
   "execution_count": 2,
   "metadata": {},
   "outputs": [
    {
     "name": "stdout",
     "output_type": "stream",
     "text": [
      "El valor máximo acumulado es: 22\n",
      "La tabla es:\n",
      "\n",
      "[0, 0, 0, 0, 0, 0]\n",
      "[0, 6, 6, 6, 6, 6]\n",
      "[0, 6, 6, 12, 18, 18]\n",
      "[0, 6, 10, 16, 18, 22]\n",
      "[0, 6, 10, 16, 18, 22]\n"
     ]
    }
   ],
   "source": [
    "# Ejemplo de uso:\n",
    "# Los arreglos se indexan a partir de 1; se incluye un valor ficticio en la posición 0.\n",
    "valor = [6, 12, 10, 2]\n",
    "peso = [1, 3, 2, 4]\n",
    "Capacidad = 5\n",
    "\n",
    "max_valor, tabla = mochila_01(valor, peso, Capacidad)\n",
    "print(\"El valor máximo acumulado es:\", max_valor)\n",
    "print(\"La tabla es:\\n\",*tabla, sep=\"\\n\")"
   ]
  },
  {
   "cell_type": "markdown",
   "metadata": {},
   "source": [
    "## Manejo de errores\n",
    "\n",
    "**¿Qué es el Manejo de Errores?**\n",
    "\n",
    "El manejo de errores consiste en identificar, capturar y gestionar situaciones anómalas que pueden ocurrir durante la ejecución de un programa. En lugar de dejar que un error se propague y cause una parada abrupta, se implementan mecanismos para tratar el error de manera controlada. Esto se logra principalmente a través de excepciones.\n",
    "\n",
    "### Ejemplo\n",
    "\n",
    "Podemos ver el manejo de errores en este contexto si implementamos la función `verificar_datos_entrada`, la cual nos dice si alguno de los datos de los argumentos en la función `mochila_01` no es correcto."
   ]
  },
  {
   "cell_type": "code",
   "execution_count": 3,
   "metadata": {},
   "outputs": [],
   "source": [
    "def verificar_datos_entrada(valor, peso, Capacidad):\n",
    "    \"\"\"\n",
    "    Verifica que los datos de entrada sean válidos para la resolución del problema de la mochila.\n",
    "\n",
    "    Parámetros:\n",
    "      valor (list[int]): Lista de valores de cada objeto.\n",
    "      peso (list[int]): Lista de pesos de cada objeto.\n",
    "      Capacidad (int): Capacidad máxima de la mochila, debe ser un entero positivo.\n",
    "\n",
    "    Retorna:\n",
    "      None\n",
    "\n",
    "    Raises:\n",
    "      TypeError: Si 'valor' o 'peso' no son listas o si 'Capacidad' no es un entero.\n",
    "      ValueError: Si 'Capacidad' es negativo o si las listas 'valor' y 'peso' tienen tamaños diferentes.\n",
    "    \"\"\"\n",
    "    # Validar que 'valor' y 'peso' sean listas y 'Capacidad' sea un entero.\n",
    "    if not isinstance(valor, list) or not isinstance(peso, list):\n",
    "        raise TypeError(\"Los parámetros 'valor' y 'peso' deben ser listas.\")\n",
    "    if not isinstance(Capacidad, int):\n",
    "        raise TypeError(\"La capacidad debe ser un entero.\")\n",
    "    \n",
    "    # Validar que la capacidad sea positiva.\n",
    "    if Capacidad < 0:\n",
    "        raise ValueError(\"La capacidad debe ser un entero positivo.\")\n",
    "    \n",
    "    # Validar que las listas tengan el mismo tamaño.\n",
    "    if len(valor) != len(peso):\n",
    "        raise ValueError(\"Las listas 'valor' y 'peso' deben tener el mismo tamaño.\")\n"
   ]
  },
  {
   "cell_type": "markdown",
   "metadata": {},
   "source": [
    "Así, podemos implementar el manejo de errores en nuestra función `mochila_01` simplemente mandando a llamar la función `verificar_datos_entrada` al principio de nuestra implementación:"
   ]
  },
  {
   "cell_type": "code",
   "execution_count": 4,
   "metadata": {},
   "outputs": [],
   "source": [
    "def mochila_01_con_verificacion(valor, peso, Capacidad):\n",
    "    \"\"\"\n",
    "    Resuelve el problema de la mochila 0-1 usando programación dinámica.\n",
    "    \n",
    "    Se asume que:\n",
    "      - valor es una lista de enteros que representa el valor de cada objeto.\n",
    "      - peso es una lista de enteros que representa el peso de cada objeto.\n",
    "      - Capacidad es un entero positivo que representa la capacidad máxima de la mochila.\n",
    "    \n",
    "    Parámetros:\n",
    "      valor (list of int): Valores de los objetos, con valor[0] sin utilizar.\n",
    "      peso (list of int): Pesos de los objetos, con peso[0] sin utilizar.\n",
    "      Capacidad (int): Capacidad máxima de la mochila.\n",
    "      \n",
    "    Retorna:\n",
    "      int: El valor máximo acumulado que se puede obtener con la capacidad dada.\n",
    "      list of list of int: La tabla de programación dinámica utilizada para la solución.\n",
    "    \n",
    "    Ejemplo:\n",
    "      >>> valor = [6, 12, 10, 2] # Se incluye 0 en la posición 0.\n",
    "      >>> peso = [1, 3, 2, 4]\n",
    "      >>> Capacidad = 5\n",
    "      >>> max_valor, tabla = knapsack_01(valor, peso, Capacidad)\n",
    "      >>> print(max_valor)\n",
    "      22\n",
    "    \"\"\"\n",
    "  # Verificar que los datos de entrada sean válidos.\n",
    "  # Si alguno de los datos de entrada no es válido, se lanzará una excepción.\n",
    "    verificar_datos_entrada(valor, peso, Capacidad)\n",
    "\n",
    "    valor.insert(0,0) # Se inserta un valor ficticio en la posición 0 (Casos base).\n",
    "    peso.insert(0,0)  # Se inserta un valor ficticio en la posición 0 (Casos Base).\n",
    "    n = len(valor) - 1  # Se asume que valor y peso tienen n+1 elementos (posición 0 sin usar)\n",
    "\n",
    "    # Crear la tabla m[0..n][0..Capacidad] inicializada a 0\n",
    "    m = [[0 for _ in range(Capacidad + 1)] for _ in range(n + 1)]\n",
    "   \n",
    "    # Inicialización:\n",
    "    # Para subcapacidad desde 0 hasta Capacidad, m[0][subcapacidad] ya es 0.\n",
    "    # Para objeto desde 0 hasta n, m[objeto][0] ya es 0.\n",
    "    \n",
    "    # Llenar la tabla con programación dinámica\n",
    "    for objeto in range(1, n + 1):\n",
    "        for subcapacidad in range(1, Capacidad + 1):\n",
    "            if peso[objeto] > subcapacidad:\n",
    "                m[objeto][subcapacidad] = m[objeto - 1][subcapacidad]\n",
    "            else:\n",
    "                m[objeto][subcapacidad] = max(\n",
    "                    m[objeto - 1][subcapacidad],\n",
    "                    m[objeto - 1][subcapacidad - peso[objeto]] + valor[objeto]\n",
    "                )\n",
    "                \n",
    "    return m[n][Capacidad], m"
   ]
  },
  {
   "cell_type": "markdown",
   "metadata": {},
   "source": [
    "## Ejercicio 1.1 \n",
    "- Verifica que si le das datos incorrectos a la función `mochila_01_con_verificacion` saldran los errores correspondientes."
   ]
  },
  {
   "cell_type": "code",
   "execution_count": 5,
   "metadata": {},
   "outputs": [
    {
     "ename": "ValueError",
     "evalue": "La capacidad debe ser un entero positivo.",
     "output_type": "error",
     "traceback": [
      "\u001b[1;31m---------------------------------------------------------------------------\u001b[0m",
      "\u001b[1;31mValueError\u001b[0m                                Traceback (most recent call last)",
      "Cell \u001b[1;32mIn[5], line 1\u001b[0m\n\u001b[1;32m----> 1\u001b[0m \u001b[43mmochila_01_con_verificacion\u001b[49m\u001b[43m(\u001b[49m\u001b[43m[\u001b[49m\u001b[38;5;241;43m6\u001b[39;49m\u001b[43m,\u001b[49m\u001b[43m \u001b[49m\u001b[38;5;241;43m12\u001b[39;49m\u001b[43m,\u001b[49m\u001b[43m \u001b[49m\u001b[38;5;241;43m10\u001b[39;49m\u001b[43m,\u001b[49m\u001b[43m \u001b[49m\u001b[38;5;241;43m2\u001b[39;49m\u001b[43m]\u001b[49m\u001b[43m,\u001b[49m\u001b[43m \u001b[49m\u001b[43m[\u001b[49m\u001b[38;5;241;43m1\u001b[39;49m\u001b[43m,\u001b[49m\u001b[43m \u001b[49m\u001b[38;5;241;43m3\u001b[39;49m\u001b[43m,\u001b[49m\u001b[43m \u001b[49m\u001b[38;5;241;43m2\u001b[39;49m\u001b[43m,\u001b[49m\u001b[43m \u001b[49m\u001b[38;5;241;43m4\u001b[39;49m\u001b[43m]\u001b[49m\u001b[43m,\u001b[49m\u001b[43m \u001b[49m\u001b[38;5;241;43m-\u001b[39;49m\u001b[38;5;241;43m5\u001b[39;49m\u001b[43m)\u001b[49m \n\u001b[0;32m      2\u001b[0m \u001b[38;5;66;03m# Debe lanzar una excepción ValueError\u001b[39;00m\n",
      "Cell \u001b[1;32mIn[4], line 29\u001b[0m, in \u001b[0;36mmochila_01_con_verificacion\u001b[1;34m(valor, peso, Capacidad)\u001b[0m\n\u001b[0;32m      2\u001b[0m \u001b[38;5;250m  \u001b[39m\u001b[38;5;124;03m\"\"\"\u001b[39;00m\n\u001b[0;32m      3\u001b[0m \u001b[38;5;124;03m  Resuelve el problema de la mochila 0-1 usando programación dinámica.\u001b[39;00m\n\u001b[0;32m      4\u001b[0m \u001b[38;5;124;03m  \u001b[39;00m\n\u001b[1;32m   (...)\u001b[0m\n\u001b[0;32m     25\u001b[0m \u001b[38;5;124;03m    22\u001b[39;00m\n\u001b[0;32m     26\u001b[0m \u001b[38;5;124;03m  \"\"\"\u001b[39;00m\n\u001b[0;32m     27\u001b[0m \u001b[38;5;66;03m# Verificar que los datos de entrada sean válidos.\u001b[39;00m\n\u001b[0;32m     28\u001b[0m \u001b[38;5;66;03m# Si alguno de los datos de entrada no es válido, se lanzará una excepción.\u001b[39;00m\n\u001b[1;32m---> 29\u001b[0m   \u001b[43mverificar_datos_entrada\u001b[49m\u001b[43m(\u001b[49m\u001b[43mvalor\u001b[49m\u001b[43m,\u001b[49m\u001b[43m \u001b[49m\u001b[43mpeso\u001b[49m\u001b[43m,\u001b[49m\u001b[43m \u001b[49m\u001b[43mCapacidad\u001b[49m\u001b[43m)\u001b[49m\n\u001b[0;32m     31\u001b[0m   valor\u001b[38;5;241m.\u001b[39minsert(\u001b[38;5;241m0\u001b[39m,\u001b[38;5;241m0\u001b[39m) \u001b[38;5;66;03m# Se inserta un valor ficticio en la posición 0 (Casos base).\u001b[39;00m\n\u001b[0;32m     32\u001b[0m   peso\u001b[38;5;241m.\u001b[39minsert(\u001b[38;5;241m0\u001b[39m,\u001b[38;5;241m0\u001b[39m)  \u001b[38;5;66;03m# Se inserta un valor ficticio en la posición 0 (Casos Base).\u001b[39;00m\n",
      "Cell \u001b[1;32mIn[3], line 25\u001b[0m, in \u001b[0;36mverificar_datos_entrada\u001b[1;34m(valor, peso, Capacidad)\u001b[0m\n\u001b[0;32m     23\u001b[0m \u001b[38;5;66;03m# Validar que la capacidad sea positiva.\u001b[39;00m\n\u001b[0;32m     24\u001b[0m \u001b[38;5;28;01mif\u001b[39;00m Capacidad \u001b[38;5;241m<\u001b[39m \u001b[38;5;241m0\u001b[39m:\n\u001b[1;32m---> 25\u001b[0m     \u001b[38;5;28;01mraise\u001b[39;00m \u001b[38;5;167;01mValueError\u001b[39;00m(\u001b[38;5;124m\"\u001b[39m\u001b[38;5;124mLa capacidad debe ser un entero positivo.\u001b[39m\u001b[38;5;124m\"\u001b[39m)\n\u001b[0;32m     27\u001b[0m \u001b[38;5;66;03m# Validar que las listas tengan el mismo tamaño.\u001b[39;00m\n\u001b[0;32m     28\u001b[0m \u001b[38;5;28;01mif\u001b[39;00m \u001b[38;5;28mlen\u001b[39m(valor) \u001b[38;5;241m!=\u001b[39m \u001b[38;5;28mlen\u001b[39m(peso):\n",
      "\u001b[1;31mValueError\u001b[0m: La capacidad debe ser un entero positivo."
     ]
    }
   ],
   "source": [
    "mochila_01_con_verificacion([6, 12, 10, 2], [1, 3, 2, 4], -5) \n",
    "# Debe lanzar una excepción ValueError"
   ]
  },
  {
   "cell_type": "code",
   "execution_count": null,
   "metadata": {},
   "outputs": [
    {
     "ename": "TypeError",
     "evalue": "Los parámetros 'valor' y 'peso' deben ser listas.",
     "output_type": "error",
     "traceback": [
      "\u001b[1;31m---------------------------------------------------------------------------\u001b[0m",
      "\u001b[1;31mTypeError\u001b[0m                                 Traceback (most recent call last)",
      "Cell \u001b[1;32mIn[6], line 3\u001b[0m\n\u001b[0;32m      1\u001b[0m \u001b[38;5;66;03m# Verificar que la función se comporta como se espera en los demás casos.\u001b[39;00m\n\u001b[1;32m----> 3\u001b[0m \u001b[43mmochila_01_con_verificacion\u001b[49m\u001b[43m(\u001b[49m\u001b[43m{\u001b[49m\u001b[38;5;241;43m6\u001b[39;49m\u001b[43m,\u001b[49m\u001b[43m \u001b[49m\u001b[38;5;241;43m12\u001b[39;49m\u001b[43m,\u001b[49m\u001b[43m \u001b[49m\u001b[38;5;241;43m10\u001b[39;49m\u001b[43m,\u001b[49m\u001b[43m \u001b[49m\u001b[38;5;241;43m2\u001b[39;49m\u001b[43m}\u001b[49m\u001b[43m,\u001b[49m\u001b[43m \u001b[49m\u001b[43m[\u001b[49m\u001b[38;5;241;43m1\u001b[39;49m\u001b[43m,\u001b[49m\u001b[43m \u001b[49m\u001b[38;5;241;43m3\u001b[39;49m\u001b[43m,\u001b[49m\u001b[43m \u001b[49m\u001b[38;5;241;43m2\u001b[39;49m\u001b[43m,\u001b[49m\u001b[43m \u001b[49m\u001b[38;5;241;43m4\u001b[39;49m\u001b[43m]\u001b[49m\u001b[43m,\u001b[49m\u001b[43m \u001b[49m\u001b[38;5;241;43m-\u001b[39;49m\u001b[38;5;241;43m5\u001b[39;49m\u001b[43m)\u001b[49m \u001b[38;5;66;03m# Debe lanzar una excepción ValueError\u001b[39;00m\n",
      "Cell \u001b[1;32mIn[2], line 29\u001b[0m, in \u001b[0;36mmochila_01_con_verificacion\u001b[1;34m(valor, peso, Capacidad)\u001b[0m\n\u001b[0;32m      2\u001b[0m \u001b[38;5;250m  \u001b[39m\u001b[38;5;124;03m\"\"\"\u001b[39;00m\n\u001b[0;32m      3\u001b[0m \u001b[38;5;124;03m  Resuelve el problema de la mochila 0-1 usando programación dinámica.\u001b[39;00m\n\u001b[0;32m      4\u001b[0m \u001b[38;5;124;03m  \u001b[39;00m\n\u001b[1;32m   (...)\u001b[0m\n\u001b[0;32m     25\u001b[0m \u001b[38;5;124;03m    22\u001b[39;00m\n\u001b[0;32m     26\u001b[0m \u001b[38;5;124;03m  \"\"\"\u001b[39;00m\n\u001b[0;32m     27\u001b[0m \u001b[38;5;66;03m# Verificar que los datos de entrada sean válidos.\u001b[39;00m\n\u001b[0;32m     28\u001b[0m \u001b[38;5;66;03m# Si alguno de los datos de entrada no es válido, se lanzará una excepción.\u001b[39;00m\n\u001b[1;32m---> 29\u001b[0m   \u001b[43mverificar_datos_entrada\u001b[49m\u001b[43m(\u001b[49m\u001b[43mvalor\u001b[49m\u001b[43m,\u001b[49m\u001b[43m \u001b[49m\u001b[43mpeso\u001b[49m\u001b[43m,\u001b[49m\u001b[43m \u001b[49m\u001b[43mCapacidad\u001b[49m\u001b[43m)\u001b[49m\n\u001b[0;32m     31\u001b[0m   valor\u001b[38;5;241m.\u001b[39minsert(\u001b[38;5;241m0\u001b[39m,\u001b[38;5;241m0\u001b[39m) \u001b[38;5;66;03m# Se inserta un valor ficticio en la posición 0 (Casos base).\u001b[39;00m\n\u001b[0;32m     32\u001b[0m   peso\u001b[38;5;241m.\u001b[39minsert(\u001b[38;5;241m0\u001b[39m,\u001b[38;5;241m0\u001b[39m)  \u001b[38;5;66;03m# Se inserta un valor ficticio en la posición 0 (Casos Base).\u001b[39;00m\n",
      "Cell \u001b[1;32mIn[4], line 19\u001b[0m, in \u001b[0;36mverificar_datos_entrada\u001b[1;34m(valor, peso, Capacidad)\u001b[0m\n\u001b[0;32m     17\u001b[0m \u001b[38;5;66;03m# Validar que 'valor' y 'peso' sean listas y 'Capacidad' sea un entero.\u001b[39;00m\n\u001b[0;32m     18\u001b[0m \u001b[38;5;28;01mif\u001b[39;00m \u001b[38;5;129;01mnot\u001b[39;00m \u001b[38;5;28misinstance\u001b[39m(valor, \u001b[38;5;28mlist\u001b[39m) \u001b[38;5;129;01mor\u001b[39;00m \u001b[38;5;129;01mnot\u001b[39;00m \u001b[38;5;28misinstance\u001b[39m(peso, \u001b[38;5;28mlist\u001b[39m):\n\u001b[1;32m---> 19\u001b[0m     \u001b[38;5;28;01mraise\u001b[39;00m \u001b[38;5;167;01mTypeError\u001b[39;00m(\u001b[38;5;124m\"\u001b[39m\u001b[38;5;124mLos parámetros \u001b[39m\u001b[38;5;124m'\u001b[39m\u001b[38;5;124mvalor\u001b[39m\u001b[38;5;124m'\u001b[39m\u001b[38;5;124m y \u001b[39m\u001b[38;5;124m'\u001b[39m\u001b[38;5;124mpeso\u001b[39m\u001b[38;5;124m'\u001b[39m\u001b[38;5;124m deben ser listas.\u001b[39m\u001b[38;5;124m\"\u001b[39m)\n\u001b[0;32m     20\u001b[0m \u001b[38;5;28;01mif\u001b[39;00m \u001b[38;5;129;01mnot\u001b[39;00m \u001b[38;5;28misinstance\u001b[39m(Capacidad, \u001b[38;5;28mint\u001b[39m):\n\u001b[0;32m     21\u001b[0m     \u001b[38;5;28;01mraise\u001b[39;00m \u001b[38;5;167;01mTypeError\u001b[39;00m(\u001b[38;5;124m\"\u001b[39m\u001b[38;5;124mLa capacidad debe ser un entero.\u001b[39m\u001b[38;5;124m\"\u001b[39m)\n",
      "\u001b[1;31mTypeError\u001b[0m: Los parámetros 'valor' y 'peso' deben ser listas."
     ]
    }
   ],
   "source": [
    "mochila_01_con_verificacion({6, 12, 10, 2}, [1, 3, 2, 4], 5) \n",
    "# Debe lanzar una excepción TypeError"
   ]
  },
  {
   "cell_type": "code",
   "execution_count": null,
   "metadata": {},
   "outputs": [
    {
     "ename": "ValueError",
     "evalue": "Las listas 'valor' y 'peso' deben tener el mismo tamaño.",
     "output_type": "error",
     "traceback": [
      "\u001b[1;31m---------------------------------------------------------------------------\u001b[0m",
      "\u001b[1;31mValueError\u001b[0m                                Traceback (most recent call last)",
      "Cell \u001b[1;32mIn[7], line 3\u001b[0m\n\u001b[0;32m      1\u001b[0m \u001b[38;5;66;03m# Verificar que la función se comporta como se espera en los demás casos.\u001b[39;00m\n\u001b[1;32m----> 3\u001b[0m \u001b[43mmochila_01_con_verificacion\u001b[49m\u001b[43m(\u001b[49m\u001b[43m[\u001b[49m\u001b[38;5;241;43m6\u001b[39;49m\u001b[43m,\u001b[49m\u001b[43m \u001b[49m\u001b[38;5;241;43m12\u001b[39;49m\u001b[43m,\u001b[49m\u001b[43m \u001b[49m\u001b[38;5;241;43m10\u001b[39;49m\u001b[43m,\u001b[49m\u001b[43m \u001b[49m\u001b[38;5;241;43m2\u001b[39;49m\u001b[43m,\u001b[49m\u001b[43m \u001b[49m\u001b[38;5;241;43m4\u001b[39;49m\u001b[43m]\u001b[49m\u001b[43m,\u001b[49m\u001b[43m \u001b[49m\u001b[43m[\u001b[49m\u001b[38;5;241;43m1\u001b[39;49m\u001b[43m,\u001b[49m\u001b[43m \u001b[49m\u001b[38;5;241;43m3\u001b[39;49m\u001b[43m,\u001b[49m\u001b[43m \u001b[49m\u001b[38;5;241;43m2\u001b[39;49m\u001b[43m,\u001b[49m\u001b[43m \u001b[49m\u001b[38;5;241;43m4\u001b[39;49m\u001b[43m]\u001b[49m\u001b[43m,\u001b[49m\u001b[43m \u001b[49m\u001b[38;5;241;43m5\u001b[39;49m\u001b[43m)\u001b[49m \n\u001b[0;32m      4\u001b[0m \u001b[38;5;66;03m# Debe lanzar una excepción ValueError\u001b[39;00m\n",
      "Cell \u001b[1;32mIn[2], line 29\u001b[0m, in \u001b[0;36mmochila_01_con_verificacion\u001b[1;34m(valor, peso, Capacidad)\u001b[0m\n\u001b[0;32m      2\u001b[0m \u001b[38;5;250m  \u001b[39m\u001b[38;5;124;03m\"\"\"\u001b[39;00m\n\u001b[0;32m      3\u001b[0m \u001b[38;5;124;03m  Resuelve el problema de la mochila 0-1 usando programación dinámica.\u001b[39;00m\n\u001b[0;32m      4\u001b[0m \u001b[38;5;124;03m  \u001b[39;00m\n\u001b[1;32m   (...)\u001b[0m\n\u001b[0;32m     25\u001b[0m \u001b[38;5;124;03m    22\u001b[39;00m\n\u001b[0;32m     26\u001b[0m \u001b[38;5;124;03m  \"\"\"\u001b[39;00m\n\u001b[0;32m     27\u001b[0m \u001b[38;5;66;03m# Verificar que los datos de entrada sean válidos.\u001b[39;00m\n\u001b[0;32m     28\u001b[0m \u001b[38;5;66;03m# Si alguno de los datos de entrada no es válido, se lanzará una excepción.\u001b[39;00m\n\u001b[1;32m---> 29\u001b[0m   \u001b[43mverificar_datos_entrada\u001b[49m\u001b[43m(\u001b[49m\u001b[43mvalor\u001b[49m\u001b[43m,\u001b[49m\u001b[43m \u001b[49m\u001b[43mpeso\u001b[49m\u001b[43m,\u001b[49m\u001b[43m \u001b[49m\u001b[43mCapacidad\u001b[49m\u001b[43m)\u001b[49m\n\u001b[0;32m     31\u001b[0m   valor\u001b[38;5;241m.\u001b[39minsert(\u001b[38;5;241m0\u001b[39m,\u001b[38;5;241m0\u001b[39m) \u001b[38;5;66;03m# Se inserta un valor ficticio en la posición 0 (Casos base).\u001b[39;00m\n\u001b[0;32m     32\u001b[0m   peso\u001b[38;5;241m.\u001b[39minsert(\u001b[38;5;241m0\u001b[39m,\u001b[38;5;241m0\u001b[39m)  \u001b[38;5;66;03m# Se inserta un valor ficticio en la posición 0 (Casos Base).\u001b[39;00m\n",
      "Cell \u001b[1;32mIn[4], line 29\u001b[0m, in \u001b[0;36mverificar_datos_entrada\u001b[1;34m(valor, peso, Capacidad)\u001b[0m\n\u001b[0;32m     27\u001b[0m \u001b[38;5;66;03m# Validar que las listas tengan el mismo tamaño.\u001b[39;00m\n\u001b[0;32m     28\u001b[0m \u001b[38;5;28;01mif\u001b[39;00m \u001b[38;5;28mlen\u001b[39m(valor) \u001b[38;5;241m!=\u001b[39m \u001b[38;5;28mlen\u001b[39m(peso):\n\u001b[1;32m---> 29\u001b[0m     \u001b[38;5;28;01mraise\u001b[39;00m \u001b[38;5;167;01mValueError\u001b[39;00m(\u001b[38;5;124m\"\u001b[39m\u001b[38;5;124mLas listas \u001b[39m\u001b[38;5;124m'\u001b[39m\u001b[38;5;124mvalor\u001b[39m\u001b[38;5;124m'\u001b[39m\u001b[38;5;124m y \u001b[39m\u001b[38;5;124m'\u001b[39m\u001b[38;5;124mpeso\u001b[39m\u001b[38;5;124m'\u001b[39m\u001b[38;5;124m deben tener el mismo tamaño.\u001b[39m\u001b[38;5;124m\"\u001b[39m)\n",
      "\u001b[1;31mValueError\u001b[0m: Las listas 'valor' y 'peso' deben tener el mismo tamaño."
     ]
    }
   ],
   "source": [
    "mochila_01_con_verificacion([6, 12, 10, 2, 4], [1, 3, 2, 4], 5) \n",
    "# Debe lanzar una excepción ValueError"
   ]
  },
  {
   "cell_type": "code",
   "execution_count": null,
   "metadata": {},
   "outputs": [
    {
     "ename": "TypeError",
     "evalue": "La capacidad debe ser un entero.",
     "output_type": "error",
     "traceback": [
      "\u001b[1;31m---------------------------------------------------------------------------\u001b[0m",
      "\u001b[1;31mTypeError\u001b[0m                                 Traceback (most recent call last)",
      "Cell \u001b[1;32mIn[8], line 3\u001b[0m\n\u001b[0;32m      1\u001b[0m \u001b[38;5;66;03m# Verificar que la función se comporta como se espera en los demás casos.\u001b[39;00m\n\u001b[1;32m----> 3\u001b[0m \u001b[43mmochila_01_con_verificacion\u001b[49m\u001b[43m(\u001b[49m\u001b[43m[\u001b[49m\u001b[38;5;241;43m6\u001b[39;49m\u001b[43m,\u001b[49m\u001b[43m \u001b[49m\u001b[38;5;241;43m12\u001b[39;49m\u001b[43m,\u001b[49m\u001b[43m \u001b[49m\u001b[38;5;241;43m10\u001b[39;49m\u001b[43m,\u001b[49m\u001b[43m \u001b[49m\u001b[38;5;241;43m2\u001b[39;49m\u001b[43m,\u001b[49m\u001b[43m \u001b[49m\u001b[38;5;241;43m4\u001b[39;49m\u001b[43m]\u001b[49m\u001b[43m,\u001b[49m\u001b[43m \u001b[49m\u001b[43m[\u001b[49m\u001b[38;5;241;43m1\u001b[39;49m\u001b[43m,\u001b[49m\u001b[43m \u001b[49m\u001b[38;5;241;43m3\u001b[39;49m\u001b[43m,\u001b[49m\u001b[43m \u001b[49m\u001b[38;5;241;43m2\u001b[39;49m\u001b[43m,\u001b[49m\u001b[43m \u001b[49m\u001b[38;5;241;43m4\u001b[39;49m\u001b[43m]\u001b[49m\u001b[43m,\u001b[49m\u001b[43m \u001b[49m\u001b[38;5;241;43m5.3\u001b[39;49m\u001b[43m)\u001b[49m \n\u001b[0;32m      4\u001b[0m \u001b[38;5;66;03m# Debe lanzar una excepción TypeError\u001b[39;00m\n",
      "Cell \u001b[1;32mIn[2], line 29\u001b[0m, in \u001b[0;36mmochila_01_con_verificacion\u001b[1;34m(valor, peso, Capacidad)\u001b[0m\n\u001b[0;32m      2\u001b[0m \u001b[38;5;250m  \u001b[39m\u001b[38;5;124;03m\"\"\"\u001b[39;00m\n\u001b[0;32m      3\u001b[0m \u001b[38;5;124;03m  Resuelve el problema de la mochila 0-1 usando programación dinámica.\u001b[39;00m\n\u001b[0;32m      4\u001b[0m \u001b[38;5;124;03m  \u001b[39;00m\n\u001b[1;32m   (...)\u001b[0m\n\u001b[0;32m     25\u001b[0m \u001b[38;5;124;03m    22\u001b[39;00m\n\u001b[0;32m     26\u001b[0m \u001b[38;5;124;03m  \"\"\"\u001b[39;00m\n\u001b[0;32m     27\u001b[0m \u001b[38;5;66;03m# Verificar que los datos de entrada sean válidos.\u001b[39;00m\n\u001b[0;32m     28\u001b[0m \u001b[38;5;66;03m# Si alguno de los datos de entrada no es válido, se lanzará una excepción.\u001b[39;00m\n\u001b[1;32m---> 29\u001b[0m   \u001b[43mverificar_datos_entrada\u001b[49m\u001b[43m(\u001b[49m\u001b[43mvalor\u001b[49m\u001b[43m,\u001b[49m\u001b[43m \u001b[49m\u001b[43mpeso\u001b[49m\u001b[43m,\u001b[49m\u001b[43m \u001b[49m\u001b[43mCapacidad\u001b[49m\u001b[43m)\u001b[49m\n\u001b[0;32m     31\u001b[0m   valor\u001b[38;5;241m.\u001b[39minsert(\u001b[38;5;241m0\u001b[39m,\u001b[38;5;241m0\u001b[39m) \u001b[38;5;66;03m# Se inserta un valor ficticio en la posición 0 (Casos base).\u001b[39;00m\n\u001b[0;32m     32\u001b[0m   peso\u001b[38;5;241m.\u001b[39minsert(\u001b[38;5;241m0\u001b[39m,\u001b[38;5;241m0\u001b[39m)  \u001b[38;5;66;03m# Se inserta un valor ficticio en la posición 0 (Casos Base).\u001b[39;00m\n",
      "Cell \u001b[1;32mIn[4], line 21\u001b[0m, in \u001b[0;36mverificar_datos_entrada\u001b[1;34m(valor, peso, Capacidad)\u001b[0m\n\u001b[0;32m     19\u001b[0m     \u001b[38;5;28;01mraise\u001b[39;00m \u001b[38;5;167;01mTypeError\u001b[39;00m(\u001b[38;5;124m\"\u001b[39m\u001b[38;5;124mLos parámetros \u001b[39m\u001b[38;5;124m'\u001b[39m\u001b[38;5;124mvalor\u001b[39m\u001b[38;5;124m'\u001b[39m\u001b[38;5;124m y \u001b[39m\u001b[38;5;124m'\u001b[39m\u001b[38;5;124mpeso\u001b[39m\u001b[38;5;124m'\u001b[39m\u001b[38;5;124m deben ser listas.\u001b[39m\u001b[38;5;124m\"\u001b[39m)\n\u001b[0;32m     20\u001b[0m \u001b[38;5;28;01mif\u001b[39;00m \u001b[38;5;129;01mnot\u001b[39;00m \u001b[38;5;28misinstance\u001b[39m(Capacidad, \u001b[38;5;28mint\u001b[39m):\n\u001b[1;32m---> 21\u001b[0m     \u001b[38;5;28;01mraise\u001b[39;00m \u001b[38;5;167;01mTypeError\u001b[39;00m(\u001b[38;5;124m\"\u001b[39m\u001b[38;5;124mLa capacidad debe ser un entero.\u001b[39m\u001b[38;5;124m\"\u001b[39m)\n\u001b[0;32m     23\u001b[0m \u001b[38;5;66;03m# Validar que la capacidad sea positiva.\u001b[39;00m\n\u001b[0;32m     24\u001b[0m \u001b[38;5;28;01mif\u001b[39;00m Capacidad \u001b[38;5;241m<\u001b[39m \u001b[38;5;241m0\u001b[39m:\n",
      "\u001b[1;31mTypeError\u001b[0m: La capacidad debe ser un entero."
     ]
    }
   ],
   "source": [
    "# Verificar que la función se comporta como se espera en los demás casos.\n",
    "\n",
    "mochila_01_con_verificacion([6, 12, 10, 2, 4], [1, 3, 2, 4], 5.3) \n",
    "# Debe lanzar una excepción TypeError"
   ]
  },
  {
   "cell_type": "markdown",
   "metadata": {},
   "source": [
    "## Manejo de excepciones\n",
    "**¿Qué son y para qué sirven las excepciones?** \n",
    "\n",
    "Las excepciones son mecanismos que permiten manejar errores o situaciones inesperadas durante la ejecución de un programa. En lugar de detener bruscamente la ejecución al producirse un error, se pueden capturar y gestionar estos “excepciones” mediante bloques `try`/`except`, lo que mejora la robustez del código y permite dar mensajes de error más claros o realizar acciones correctivas.\n",
    "\n",
    "El uso de excepciones es fundamental para:\n",
    "\n",
    "- Evitar que el programa se caiga por errores no controlados.\n",
    "- Proveer retroalimentación al usuario sobre qué salió mal.\n",
    "- Permitir que el programa continúe o realice limpiezas (por ejemplo, con bloques finally) antes de finalizar."
   ]
  },
  {
   "cell_type": "markdown",
   "metadata": {},
   "source": [
    "### Componentes del Manejo de Errores en Python\n",
    "1. Excepciones:\n",
    "Son objetos que representan errores o condiciones excepcionales que ocurren durante la ejecución del programa.\n",
    "**Funcionamiento:**\n",
    "Cuando se detecta un problema, se \"lanza\" (o `raise`) una excepción, lo que interrumpe el flujo normal del programa hasta que esta es capturada y manejada.\n",
    "2. Bloques `try`/`except`\n",
    "Propósito:\n",
    "Permiten ejecutar un bloque de código y, en caso de que se produzca un error, saltar a un bloque de manejo específico en lugar de detener el programa.\n",
    "\n",
    "Estructura básica:"
   ]
  },
  {
   "cell_type": "markdown",
   "metadata": {},
   "source": [
    "```python\n",
    "try:\n",
    "    # Código que puede generar un error\n",
    "except TipoDeError:\n",
    "    # Código que se ejecuta si ocurre ese error específico\n",
    "```"
   ]
  },
  {
   "cell_type": "markdown",
   "metadata": {},
   "source": [
    "**Ventajas:**\n",
    "\n",
    "Permiten capturar errores específicos.\n",
    "Se puede tener múltiples bloques except para manejar distintos tipos de errores.\n",
    "\n",
    "3. Cláusula `else`\n",
    "Se incluye después de los bloques `try` y `except` y se ejecuta si el bloque `try` no genera ninguna excepción.\n"
   ]
  },
  {
   "cell_type": "markdown",
   "metadata": {},
   "source": [
    "```python\n",
    "try:\n",
    "    # Código que puede generar un error\n",
    "except TipoDeError:\n",
    "    # Código que se ejecuta si ocurre ese error específico\n",
    "else:\n",
    "    # Código que se ejecuta si no ocurre ningún error\n",
    "```"
   ]
  },
  {
   "cell_type": "markdown",
   "metadata": {},
   "source": [
    "**Ventaja:**\n",
    "Separa el código que se ejecuta normalmente del que se utiliza para gestionar errores, mejorando la legibilidad."
   ]
  },
  {
   "cell_type": "markdown",
   "metadata": {},
   "source": [
    "\n",
    "4. Cláusula `finally`\n",
    "\n",
    "Garantiza la ejecución de un bloque de código, independientemente de si se produjo o no una excepción.\n",
    "\n",
    "**Aplicaciones:**\n",
    "Es útil para liberar recursos, cerrar archivos, o realizar cualquier acción de limpieza que deba ocurrir sin importar el resultado del bloque try."
   ]
  },
  {
   "cell_type": "markdown",
   "metadata": {},
   "source": [
    "```python\n",
    "try:\n",
    "    # Código que puede generar error\n",
    "except:\n",
    "    # Manejo del error\n",
    "finally:\n",
    "    # Código que se ejecuta siempre, con o sin error\n",
    "```"
   ]
  },
  {
   "cell_type": "markdown",
   "metadata": {},
   "source": [
    "5. La sentencia `raise`\n",
    "\n",
    "Permite lanzar una excepción manualmente cuando se detecta una situación anómala o cuando se desea forzar el paso al bloque de manejo de errores.\n",
    "\n",
    "Ejemplo:"
   ]
  },
  {
   "cell_type": "code",
   "execution_count": null,
   "metadata": {},
   "outputs": [
    {
     "ename": "ValueError",
     "evalue": "El valor proporcionado no es válido.",
     "output_type": "error",
     "traceback": [
      "\u001b[1;31m---------------------------------------------------------------------------\u001b[0m",
      "\u001b[1;31mValueError\u001b[0m                                Traceback (most recent call last)",
      "Cell \u001b[1;32mIn[10], line 3\u001b[0m\n\u001b[0;32m      1\u001b[0m valor_incorrecto \u001b[38;5;241m=\u001b[39m \u001b[38;5;28;01mTrue\u001b[39;00m\n\u001b[0;32m      2\u001b[0m \u001b[38;5;28;01mif\u001b[39;00m valor_incorrecto:\n\u001b[1;32m----> 3\u001b[0m     \u001b[38;5;28;01mraise\u001b[39;00m \u001b[38;5;167;01mValueError\u001b[39;00m(\u001b[38;5;124m\"\u001b[39m\u001b[38;5;124mEl valor proporcionado no es válido.\u001b[39m\u001b[38;5;124m\"\u001b[39m)\n",
      "\u001b[1;31mValueError\u001b[0m: El valor proporcionado no es válido."
     ]
    }
   ],
   "source": [
    "valor_incorrecto = True\n",
    "if valor_incorrecto:\n",
    "    raise ValueError(\"El valor proporcionado no es válido.\")"
   ]
  },
  {
   "cell_type": "markdown",
   "metadata": {},
   "source": [
    "### Ejemplo Práctico\n",
    "Imaginemos una función que realiza una división. Esta operación puede fallar si se intenta dividir por cero o si los argumentos no son números:"
   ]
  },
  {
   "cell_type": "code",
   "execution_count": 6,
   "metadata": {},
   "outputs": [],
   "source": [
    "def dividir(a, b):\n",
    "    try:\n",
    "        resultado = a / b\n",
    "    except ZeroDivisionError:\n",
    "        print(\"Error: No se puede dividir por cero.\")\n",
    "        return None\n",
    "    except TypeError:\n",
    "        print(\"Error: Ambos argumentos deben ser números.\")\n",
    "        return None\n",
    "    else:\n",
    "        print(\"La división se realizó correctamente.\")\n",
    "        return resultado\n",
    "    finally:\n",
    "        print(\"Se ha ejecutado el bloque finally, independientemente del resultado.\")\n"
   ]
  },
  {
   "cell_type": "markdown",
   "metadata": {},
   "source": [
    "## Ejercicio 2 \n",
    "- Implementa la función `obtener_objetos_incluidos` que dados los pesos de una lista de objetos y la tabla de la función `mochila_01` regrese los elementos de la solución con una capacidad dada.\n",
    "- Los argumentos de la función deben ser:\n",
    "    - tabla (list of list of int): La tabla de programación dinámica resultante de `mochila_01`.\n",
    "    - peso (list of int): Lista de pesos de los objetos.\n",
    "    - Capacidad (int): La capacidad máxima de la mochila.\n",
    "- El retorno de la función deben ser:\n",
    "    - list: Una lista con los índices (0-indexados) de los objetos incluidos en la solución óptima. "
   ]
  },
  {
   "cell_type": "code",
   "execution_count": 7,
   "metadata": {},
   "outputs": [],
   "source": [
    "def obtener_objetos_incluidos(tabla, peso, Capacidad):\n",
    "    \"\"\"\n",
    "    Determina qué objetos se han incluido en la mochila a partir de la tabla tabla.\n",
    "    \n",
    "    Parámetros:\n",
    "      tabla (list of list of int): La tabla de programación dinámica resultante de `mochila_01`.\n",
    "      peso (list of int): Lista de pesos de los objetos.\n",
    "      Capacidad (int): La capacidad máxima de la mochila.\n",
    "    \n",
    "    Retorna:\n",
    "      list: Una lista con los índices (0-indexados) de los objetos incluidos en la solución óptima.\n",
    "    \n",
    "    Ejemplo:\n",
    "      >>> tabla = [[0, 0, 0, 0, 0, 0],\n",
    "      ...          [0, 6, 6, 6, 6, 6],\n",
    "      ...          [0, 6, 6, 12, 18, 18],\n",
    "      ...          [0, 6, 10, 16, 18, 22],\n",
    "      ...          [0, 6, 10, 16, 18, 22]]\n",
    "      >>> peso = [1, 3, 2, 4]\n",
    "      >>> Capacidad = 5\n",
    "      >>> obtener_objetos_incluidos(tabla, peso, Capacidad)\n",
    "      [2, 3]  # Por ejemplo, los objetos con índices 1 y 2 se incluyeron.\n",
    "    \"\"\"\n",
    "    n = len(tabla) - 1  # Número de objetos\n",
    "    w = Capacidad       # Capacidad restante o subcapacidad\n",
    "    objetos_incluidos = []\n",
    "    \n",
    "    # Retrocedemos desde el último objeto hasta el primero.\n",
    "    for objeto in range(n, 0, -1):\n",
    "        # Si el valor cambió al incluir el objeto, entonces está incluido.\n",
    "        if tabla[objeto][w] != tabla[objeto-1][w]:\n",
    "            objetos_incluidos.append(objeto)  # Se añade el objeto (indexado desde 0)\n",
    "            w -= peso[objeto]  # Se reduce la capacidad restante\n",
    "    \n",
    "    # Opcional: Invertir la lista para tener los objetos en el orden original\n",
    "    objetos_incluidos.reverse()\n",
    "    return objetos_incluidos"
   ]
  },
  {
   "cell_type": "markdown",
   "metadata": {},
   "source": [
    "Verifica que a función sea correcta con el ejemplo visto en clase:"
   ]
  },
  {
   "cell_type": "code",
   "execution_count": 8,
   "metadata": {},
   "outputs": [
    {
     "name": "stdout",
     "output_type": "stream",
     "text": [
      "Los objetos incluidos son: [2, 3]\n"
     ]
    }
   ],
   "source": [
    "# Ejemplo de uso:\n",
    "objetos_incluidos = obtener_objetos_incluidos(tabla, peso, Capacidad)\n",
    "print(\"Los objetos incluidos son:\", objetos_incluidos)"
   ]
  },
  {
   "cell_type": "markdown",
   "metadata": {},
   "source": [
    "## Algoritmo completo"
   ]
  },
  {
   "cell_type": "code",
   "execution_count": 2,
   "metadata": {},
   "outputs": [],
   "source": [
    "def mochila_01_completa(valor, peso, Capacidad):\n",
    "    \"\"\"\n",
    "    Resuelve el problema de la mochila 0-1 utilizando programación dinámica y \n",
    "    determina los objetos incluidos en la solución óptima.\n",
    "\n",
    "    Parámetros:\n",
    "      valor (list[int]): Valores de los objetos.\n",
    "      peso (list[int]): Pesos de los objetos.\n",
    "      Capacidad (int): Capacidad máxima de la mochila.\n",
    "\n",
    "    Retorna:\n",
    "      tuple:\n",
    "        - int: El valor máximo acumulado.\n",
    "        - list[int]: Lista con los índices (0-indexados) de los objetos incluidos.\n",
    "    \"\"\"\n",
    "    # Agregar valores ficticios para simplificar el manejo de índices\n",
    "    valor.insert(0, 0)\n",
    "    peso.insert(0, 0)\n",
    "    n = len(valor) - 1  # Cantidad de objetos reales\n",
    "\n",
    "    # Crear y llenar la tabla de programación dinámica\n",
    "    m = [[0 for _ in range(Capacidad + 1)] for _ in range(n + 1)]\n",
    "    for i in range(1, n + 1):\n",
    "        for w in range(1, Capacidad + 1):\n",
    "            if peso[i] > w:\n",
    "                m[i][w] = m[i - 1][w]\n",
    "            else:\n",
    "                m[i][w] = max(m[i - 1][w],\n",
    "                              m[i - 1][w - peso[i]] + valor[i])\n",
    "    max_valor = m[n][Capacidad]\n",
    "\n",
    "    # Retroceso para determinar los objetos incluidos\n",
    "    w = Capacidad\n",
    "    objetos_incluidos = []\n",
    "    for i in range(n, 0, -1):\n",
    "        # Si el valor cambia al incluir el objeto, se determinó que éste fue seleccionado\n",
    "        if m[i][w] != m[i - 1][w]:\n",
    "            # Se resta 1 para ajustar al índice original (0-indexado)\n",
    "            objetos_incluidos.append(i - 1)\n",
    "            w -= peso[i]\n",
    "    objetos_incluidos.reverse()  # Para retornar los objetos en orden original\n",
    "\n",
    "    return max_valor, objetos_incluidos\n"
   ]
  },
  {
   "cell_type": "code",
   "execution_count": 3,
   "metadata": {},
   "outputs": [
    {
     "name": "stdout",
     "output_type": "stream",
     "text": [
      "Valor máximo acumulado: 22\n",
      "Objetos incluidos (índices 0-indexados): [1, 2]\n"
     ]
    }
   ],
   "source": [
    "\n",
    "# Ejemplo de uso:\n",
    "valor = [6, 12, 10, 2]\n",
    "peso = [1, 3, 2, 4]\n",
    "Capacidad = 5\n",
    "max_valor, objetos = mochila_01_completa(valor, peso, Capacidad)\n",
    "print(\"Valor máximo acumulado:\", max_valor)\n",
    "print(\"Objetos incluidos (índices 0-indexados):\", objetos)\n"
   ]
  },
  {
   "cell_type": "markdown",
   "metadata": {},
   "source": []
  }
 ],
 "metadata": {
  "kernelspec": {
   "display_name": "Python 3",
   "language": "python",
   "name": "python3"
  },
  "language_info": {
   "codemirror_mode": {
    "name": "ipython",
    "version": 3
   },
   "file_extension": ".py",
   "mimetype": "text/x-python",
   "name": "python",
   "nbconvert_exporter": "python",
   "pygments_lexer": "ipython3",
   "version": "3.13.1"
  }
 },
 "nbformat": 4,
 "nbformat_minor": 2
}
