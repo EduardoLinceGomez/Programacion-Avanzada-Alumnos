{
 "cells": [
  {
   "cell_type": "markdown",
   "metadata": {},
   "source": [
    "# Problema de la mochila con programación dinámica\n",
    "\n",
    "## Ejercicio 1:\n",
    "- Implementa la función `mochila_01` que resuelva el problema de la mochila usando programación dinámica y el pseudocódigo que se encuentra en el archivo [ProblemaMochila.md](./ProblemaMochila.md). Si tienes dudas del algoritmo, usa la presentación [ProblemaDeLaMochila.pptx](./ProblemaDeLaMochila.pptx) para ver paso a paso la implementación del pseudocódigo.\n",
    "- Los argumentos de la función deben ser:\n",
    "    - valor (list of int): Valores de los objetos, con valor[0] sin utilizar.\n",
    "    - peso (list of int): Pesos de los objetos, con peso[0] sin utilizar.\n",
    "    - Capacidad (int): Capacidad máxima de la mochila.\n",
    "- Los retornos de la función deben ser:\n",
    "    - int: El valor máximo acumulado que se puede obtener con la capacidad dada.\n",
    "    - list of list of int: La tabla de programación dinámica utilizada para la solución."
   ]
  },
  {
   "cell_type": "markdown",
   "metadata": {},
   "source": [
    "### Documentación de código \n",
    "\n",
    "Un `docstring` es una cadena de texto que se coloca al inicio de la definición de una función, clase o módulo para describir su propósito, sus parámetros y su comportamiento. Es una forma de documentación interna del código. La función `help()` en Python utiliza estos docstrings para mostrar la documentación asociada a un objeto, lo que facilita a los desarrolladores y usuarios comprender cómo utilizar esa función o clase sin necesidad de revisar el código fuente."
   ]
  },
  {
   "cell_type": "code",
   "execution_count": null,
   "metadata": {},
   "outputs": [],
   "source": [
    "def mochila_01(valor, peso, Capacidad):\n",
    "    \"\"\"\n",
    "    Resuelve el problema de la mochila 0-1 usando programación dinámica.\n",
    "    \n",
    "    Se asume que:\n",
    "      - valor es una lista de enteros que representa el valor de cada objeto.\n",
    "      - peso es una lista de enteros que representa el peso de cada objeto.\n",
    "      - Capacidad es un entero positivo que representa la capacidad máxima de la mochila.\n",
    "    \n",
    "    Parámetros:\n",
    "      valor (list of int): Valores de los objetos.\n",
    "      peso (list of int): Pesos de los objetos.\n",
    "      Capacidad (int): Capacidad máxima de la mochila.\n",
    "      \n",
    "    Retorna:\n",
    "      int: El valor máximo acumulado que se puede obtener con la capacidad dada.\n",
    "      list of list of int: La tabla de programación dinámica utilizada para la solución.\n",
    "    \n",
    "    Ejemplo:\n",
    "      >>> valor = [6, 12, 10, 2] \n",
    "      >>> peso = [1, 3, 2, 4]\n",
    "      >>> Capacidad = 5\n",
    "      >>> max_valor, tabla = mochila_01(valor, peso, Capacidad)\n",
    "      >>> print(\"La tabla es:\\n\",*tabla, sep=\"\\n\")\n",
    "      \n",
    "      El valor máximo acumulado es: 22\n",
    "      La tabla es:\n",
    "\n",
    "      [0, 0, 0, 0, 0, 0]\n",
    "      [0, 6, 6, 6, 6, 6]\n",
    "      [0, 6, 6, 12, 18, 18]\n",
    "      [0, 6, 10, 16, 18, 22]\n",
    "      [0, 6, 10, 16, 18, 22]\n",
    "    \"\"\"\n",
    "\n",
    "     # Implementación del algoritmo..."
   ]
  },
  {
   "cell_type": "code",
   "execution_count": null,
   "metadata": {},
   "outputs": [],
   "source": [
    "help(mochila_01)"
   ]
  },
  {
   "cell_type": "markdown",
   "metadata": {},
   "source": [
    "Verifica que tu función en efecto resuelva el problema usando el ejemplo de clase:"
   ]
  },
  {
   "cell_type": "code",
   "execution_count": null,
   "metadata": {},
   "outputs": [],
   "source": [
    "# Ejemplo de uso:\n",
    "# Los arreglos se indexan a partir de 1; se incluye un valor ficticio en la posición 0.\n",
    "valor = [6, 12, 10, 2]\n",
    "peso = [1, 3, 2, 4]\n",
    "Capacidad = 5\n",
    "\n",
    "max_valor, tabla = mochila_01(valor, peso, Capacidad)\n",
    "print(\"El valor máximo acumulado es:\", max_valor)\n",
    "print(\"La tabla es:\\n\",*tabla, sep=\"\\n\")"
   ]
  },
  {
   "cell_type": "markdown",
   "metadata": {},
   "source": [
    "## Manejo de errores\n",
    "\n",
    "**¿Qué es el Manejo de Errores?**\n",
    "\n",
    "El manejo de errores consiste en identificar, capturar y gestionar situaciones anómalas que pueden ocurrir durante la ejecución de un programa. En lugar de dejar que un error se propague y cause una parada abrupta, se implementan mecanismos para tratar el error de manera controlada. Esto se logra principalmente a través de excepciones.\n",
    "\n",
    "### Ejemplo\n",
    "\n",
    "Podemos ver el manejo de errores en este contexto si implementamos la función `verificar_datos_entrada`, la cual nos dice si alguno de los datos de los argumentos en la función `mochila_01` no es correcto."
   ]
  },
  {
   "cell_type": "code",
   "execution_count": null,
   "metadata": {},
   "outputs": [],
   "source": [
    "def verificar_datos_entrada(valor, peso, Capacidad):\n",
    "    \"\"\"\n",
    "    Verifica que los datos de entrada sean válidos para la resolución del problema de la mochila.\n",
    "\n",
    "    Parámetros:\n",
    "      valor (list[int]): Lista de valores de cada objeto.\n",
    "      peso (list[int]): Lista de pesos de cada objeto.\n",
    "      Capacidad (int): Capacidad máxima de la mochila, debe ser un entero positivo.\n",
    "\n",
    "    Retorna:\n",
    "      None\n",
    "\n",
    "    Raises:\n",
    "      TypeError: Si 'valor' o 'peso' no son listas o si 'Capacidad' no es un entero.\n",
    "      ValueError: Si 'Capacidad' es negativo o si las listas 'valor' y 'peso' tienen tamaños diferentes.\n",
    "    \"\"\"\n",
    "    # Validar que 'valor' y 'peso' sean listas y 'Capacidad' sea un entero.\n",
    "    if not isinstance(valor, list) or not isinstance(peso, list):\n",
    "        raise TypeError(\"Los parámetros 'valor' y 'peso' deben ser listas.\")\n",
    "    if not isinstance(Capacidad, int):\n",
    "        raise TypeError(\"La capacidad debe ser un entero.\")\n",
    "    \n",
    "    # Validar que la capacidad sea positiva.\n",
    "    if Capacidad < 0:\n",
    "        raise ValueError(\"La capacidad debe ser un entero positivo.\")\n",
    "    \n",
    "    # Validar que las listas tengan el mismo tamaño.\n",
    "    if len(valor) != len(peso):\n",
    "        raise ValueError(\"Las listas 'valor' y 'peso' deben tener el mismo tamaño.\")\n"
   ]
  },
  {
   "cell_type": "markdown",
   "metadata": {},
   "source": [
    "Así, podemos implementar el manejo de errores en nuestra función `mochila_01` simplemente mandando a llamar la función `verificar_datos_entrada` al principio de nuestra implementación:"
   ]
  },
  {
   "cell_type": "code",
   "execution_count": 1,
   "metadata": {},
   "outputs": [],
   "source": [
    "def mochila_01_con_verificacion(valor, peso, Capacidad):\n",
    "    \"\"\"\n",
    "    Resuelve el problema de la mochila 0-1 usando programación dinámica.\n",
    "    \n",
    "    Se asume que:\n",
    "      - valor es una lista de enteros que representa el valor de cada objeto.\n",
    "      - peso es una lista de enteros que representa el peso de cada objeto.\n",
    "      - Capacidad es un entero positivo que representa la capacidad máxima de la mochila.\n",
    "    \n",
    "    Parámetros:\n",
    "      valor (list of int): Valores de los objetos, con valor[0] sin utilizar.\n",
    "      peso (list of int): Pesos de los objetos, con peso[0] sin utilizar.\n",
    "      Capacidad (int): Capacidad máxima de la mochila.\n",
    "      \n",
    "    Retorna:\n",
    "      int: El valor máximo acumulado que se puede obtener con la capacidad dada.\n",
    "      list of list of int: La tabla de programación dinámica utilizada para la solución.\n",
    "    \n",
    "    Ejemplo:\n",
    "      >>> valor = [6, 12, 10, 2] \n",
    "      >>> peso = [1, 3, 2, 4]\n",
    "      >>> Capacidad = 5\n",
    "      >>> max_valor, tabla = mochila_01(valor, peso, Capacidad)\n",
    "      >>> print(\"La tabla es:\\n\",*tabla, sep=\"\\n\")\n",
    "      \n",
    "      El valor máximo acumulado es: 22\n",
    "      La tabla es:\n",
    "\n",
    "      [0, 0, 0, 0, 0, 0]\n",
    "      [0, 6, 6, 6, 6, 6]\n",
    "      [0, 6, 6, 12, 18, 18]\n",
    "      [0, 6, 10, 16, 18, 22]\n",
    "      [0, 6, 10, 16, 18, 22]\n",
    "    \"\"\"\n",
    "  # Verificar que los datos de entrada sean válidos.\n",
    "  # Si alguno de los datos de entrada no es válido, se lanzará una excepción.\n",
    "    verificar_datos_entrada(valor, peso, Capacidad)\n",
    "\n",
    "     # Implementación del ejercicio 1 ..."
   ]
  },
  {
   "cell_type": "markdown",
   "metadata": {},
   "source": [
    "## Ejercicio 1.1 \n",
    "- Verifica que si le das datos incorrectos a la función `mochila_01_con_verificacion` saldran los errores correspondientes."
   ]
  },
  {
   "cell_type": "code",
   "execution_count": null,
   "metadata": {},
   "outputs": [],
   "source": [
    "# ejemplo\n",
    "mochila_01_con_verificacion([6, 12, 10, 2], [1, 3, 2, 4], -5) # Debe lanzar una excepción ValueError\n",
    "\n",
    "# Verificar que la función se comporta como se espera en los demás casos."
   ]
  },
  {
   "cell_type": "markdown",
   "metadata": {},
   "source": [
    "## Manejo de excepciones\n",
    "**¿Qué son y para qué sirven las excepciones?** \n",
    "\n",
    "Las excepciones son mecanismos que permiten manejar errores o situaciones inesperadas durante la ejecución de un programa. En lugar de detener bruscamente la ejecución al producirse un error, se pueden capturar y gestionar estos “excepciones” mediante bloques `try`/`except`, lo que mejora la robustez del código y permite dar mensajes de error más claros o realizar acciones correctivas.\n",
    "\n",
    "El uso de excepciones es fundamental para:\n",
    "\n",
    "- Evitar que el programa se caiga por errores no controlados.\n",
    "- Proveer retroalimentación al usuario sobre qué salió mal.\n",
    "- Permitir que el programa continúe o realice limpiezas (por ejemplo, con bloques finally) antes de finalizar."
   ]
  },
  {
   "cell_type": "markdown",
   "metadata": {},
   "source": [
    "### Componentes del Manejo de Errores en Python\n",
    "1. Excepciones:\n",
    "Son objetos que representan errores o condiciones excepcionales que ocurren durante la ejecución del programa.\n",
    "**Funcionamiento:**\n",
    "Cuando se detecta un problema, se \"lanza\" (o `raise`) una excepción, lo que interrumpe el flujo normal del programa hasta que esta es capturada y manejada.\n",
    "2. Bloques `try`/`except`\n",
    "Propósito:\n",
    "Permiten ejecutar un bloque de código y, en caso de que se produzca un error, saltar a un bloque de manejo específico en lugar de detener el programa.\n",
    "\n",
    "Estructura básica:"
   ]
  },
  {
   "cell_type": "code",
   "execution_count": null,
   "metadata": {},
   "outputs": [],
   "source": [
    "try:\n",
    "    # Código que puede generar un error\n",
    "except TipoDeError:\n",
    "    # Código que se ejecuta si ocurre ese error específico\n"
   ]
  },
  {
   "cell_type": "markdown",
   "metadata": {},
   "source": [
    "**Ventajas:**\n",
    "\n",
    "Permiten capturar errores específicos.\n",
    "Se puede tener múltiples bloques except para manejar distintos tipos de errores.\n",
    "\n",
    "3. Cláusula `else`\n",
    "Se incluye después de los bloques `try` y `except` y se ejecuta si el bloque `try` no genera ninguna excepción.\n"
   ]
  },
  {
   "cell_type": "code",
   "execution_count": null,
   "metadata": {},
   "outputs": [],
   "source": [
    "try:\n",
    "    # Código que puede generar un error\n",
    "except TipoDeError:\n",
    "    # Código que se ejecuta si ocurre ese error específico\n",
    "else:\n",
    "    # Código que se ejecuta si no ocurre ningún error"
   ]
  },
  {
   "cell_type": "markdown",
   "metadata": {},
   "source": [
    "**Ventaja:**\n",
    "Separa el código que se ejecuta normalmente del que se utiliza para gestionar errores, mejorando la legibilidad."
   ]
  },
  {
   "cell_type": "markdown",
   "metadata": {},
   "source": [
    "\n",
    "4. Cláusula `finally`\n",
    "\n",
    "Garantiza la ejecución de un bloque de código, independientemente de si se produjo o no una excepción.\n",
    "\n",
    "**Aplicaciones:**\n",
    "Es útil para liberar recursos, cerrar archivos, o realizar cualquier acción de limpieza que deba ocurrir sin importar el resultado del bloque try."
   ]
  },
  {
   "cell_type": "code",
   "execution_count": null,
   "metadata": {},
   "outputs": [],
   "source": [
    "try:\n",
    "    # Código que puede generar error\n",
    "except:\n",
    "    # Manejo del error\n",
    "finally:\n",
    "    # Código que se ejecuta siempre, con o sin error"
   ]
  },
  {
   "cell_type": "markdown",
   "metadata": {},
   "source": [
    "5. La sentencia raise\n",
    "Permite lanzar una excepción manualmente cuando se detecta una situación anómala o cuando se desea forzar el paso al bloque de manejo de errores.\n",
    "\n",
    "Ejemplo:"
   ]
  },
  {
   "cell_type": "code",
   "execution_count": null,
   "metadata": {},
   "outputs": [],
   "source": [
    "if valor_incorrecto:\n",
    "    raise ValueError(\"El valor proporcionado no es válido.\")"
   ]
  },
  {
   "cell_type": "markdown",
   "metadata": {},
   "source": [
    "### Ejemplo Práctico\n",
    "Imaginemos una función que realiza una división. Esta operación puede fallar si se intenta dividir por cero o si los argumentos no son números:"
   ]
  },
  {
   "cell_type": "code",
   "execution_count": null,
   "metadata": {},
   "outputs": [],
   "source": [
    "def dividir(a, b):\n",
    "    try:\n",
    "        resultado = a / b\n",
    "    except ZeroDivisionError:\n",
    "        print(\"Error: No se puede dividir por cero.\")\n",
    "        return None\n",
    "    except TypeError:\n",
    "        print(\"Error: Ambos argumentos deben ser números.\")\n",
    "        return None\n",
    "    else:\n",
    "        print(\"La división se realizó correctamente.\")\n",
    "        return resultado\n",
    "    finally:\n",
    "        print(\"Se ha ejecutado el bloque finally, independientemente del resultado.\")\n"
   ]
  },
  {
   "cell_type": "markdown",
   "metadata": {},
   "source": [
    "## Ejercicio 2 \n",
    "- Implementa la función `obtener_objetos_incluidos` que dados los pesos de una lista de objetos y la tabla de la función `mochila_01` regrese los elementos de la solución con una capacidad dada.\n",
    "- Los argumentos de la función deben ser:\n",
    "    - tabla (list of list of int): La tabla de programación dinámica resultante de `mochila_01`.\n",
    "    - peso (list of int): Lista de pesos de los objetos.\n",
    "    - Capacidad (int): La capacidad máxima de la mochila.\n",
    "- El retorno de la función deben ser:\n",
    "    - list: Una lista con los índices (0-indexados) de los objetos incluidos en la solución óptima. "
   ]
  },
  {
   "cell_type": "code",
   "execution_count": null,
   "metadata": {},
   "outputs": [],
   "source": [
    "def obtener_objetos_incluidos(tabla, peso, Capacidad):\n",
    "    \"\"\"\n",
    "    Determina qué objetos se han incluido en la mochila a partir de la tabla tabla.\n",
    "    \n",
    "    Parámetros:\n",
    "      tabla (list of list of int): La tabla de programación dinámica resultante de `mochila_01`.\n",
    "      peso (list of int): Lista de pesos de los objetos.\n",
    "      Capacidad (int): La capacidad máxima de la mochila.\n",
    "    \n",
    "    Retorna:\n",
    "      list: Una lista con los índices (0-indexados) de los objetos incluidos en la solución óptima.\n",
    "    \n",
    "    Ejemplo:\n",
    "      >>> tabla = [[0, 0, 0, 0, 0, 0],\n",
    "      ...          [0, 6, 6, 6, 6, 6],\n",
    "      ...          [0, 6, 6, 12, 18, 18],\n",
    "      ...          [0, 6, 10, 16, 18, 22],\n",
    "      ...          [0, 6, 10, 16, 18, 22]]\n",
    "      >>> peso = [1, 3, 2, 4]\n",
    "      >>> Capacidad = 5\n",
    "      >>> obtener_objetos_incluidos(tabla, peso, Capacidad)\n",
    "      [2, 3]  # Por ejemplo, los objetos con índices 1 y 2 se incluyeron.\n",
    "    \"\"\"\n",
    "    # Implementación del algoritmo..."
   ]
  },
  {
   "cell_type": "markdown",
   "metadata": {},
   "source": [
    "Verifica que la función sea correcta con el ejemplo visto en clase:"
   ]
  },
  {
   "cell_type": "code",
   "execution_count": null,
   "metadata": {},
   "outputs": [],
   "source": [
    "# Ejemplo de uso:\n",
    "objetos_incluidos = obtener_objetos_incluidos(tabla, peso, Capacidad)\n",
    "print(\"Los objetos incluidos son:\", objetos_incluidos)"
   ]
  }
 ],
 "metadata": {
  "kernelspec": {
   "display_name": "Python 3",
   "language": "python",
   "name": "python3"
  },
  "language_info": {
   "codemirror_mode": {
    "name": "ipython",
    "version": 3
   },
   "file_extension": ".py",
   "mimetype": "text/x-python",
   "name": "python",
   "nbconvert_exporter": "python",
   "pygments_lexer": "ipython3",
   "version": "3.13.1"
  }
 },
 "nbformat": 4,
 "nbformat_minor": 2
}
