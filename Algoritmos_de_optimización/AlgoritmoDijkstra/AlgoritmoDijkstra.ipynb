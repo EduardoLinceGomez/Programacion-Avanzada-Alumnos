{
 "cells": [
  {
   "cell_type": "markdown",
   "metadata": {},
   "source": [
    "# Algoritmo Dijkstra"
   ]
  },
  {
   "cell_type": "markdown",
   "metadata": {},
   "source": [
    "El pseudocódigo del algoritmo es el siguiente:\n",
    "```plaintext\n",
    "Algoritmo Dijkstra(grafo, origen)\n",
    "    // Inicializar distancias y predecesores para cada nodo\n",
    "    Para cada nodo en grafo Hacer\n",
    "        distancia[nodo] ← INFINITO\n",
    "        predecesor[nodo] ← NULO\n",
    "    FinPara\n",
    "    distancia[origen] ← 0\n",
    "\n",
    "    // Crear el conjunto de nodos no visitados\n",
    "    noVisitados ← conjunto de todos los nodos en grafo\n",
    "\n",
    "    Mientras noVisitados no esté vacío Hacer\n",
    "        // Seleccionar el nodo con la menor distancia estimada\n",
    "        nodoActual ← nodo en noVisitados con la mínima distanciaz\n",
    "\n",
    "        // Marcar el nodo actual como visitado\n",
    "        Remover nodoActual de noVisitados\n",
    "\n",
    "        // Para cada vecino del nodo actual\n",
    "        Para cada vecino en vecinos(nodoActual) Hacer\n",
    "            pesoArista ← peso de la arista entre nodoActual y vecino\n",
    "            distanciaAlternativa ← distancia[nodoActual] + pesoArista\n",
    "            // Si se encuentra un camino más corto, actualizar\n",
    "            Si distanciaAlternativa < distancia[vecino] Entonces\n",
    "                distancia[vecino] ← distanciaAlternativa\n",
    "                predecesor[vecino] ← nodoActual\n",
    "            FinSi\n",
    "        FinPara\n",
    "    FinMientras\n",
    "\n",
    "    Retornar distancia, predecesor\n",
    "FinAlgoritmo\n",
    "\n",
    "```\n",
    "\n",
    "## Ejercicio 1 \n",
    "Implementa el algoritmo de Dijkstra con las especificaciones del docstring y prueba que funcione para el ejemplo visto en clase."
   ]
  },
  {
   "cell_type": "code",
   "execution_count": 5,
   "metadata": {},
   "outputs": [],
   "source": [
    "def dijkstra(grafo, origen):\n",
    "    \"\"\"\n",
    "    Calcula las distancias mínimas desde el nodo 'origen' a todos los demás nodos del grafo\n",
    "    utilizando el algoritmo de Dijkstra.\n",
    "\n",
    "    Parámetros:\n",
    "        grafo: Diccionario donde cada clave es un nodo y su valor es una lista de tuplas (vecino, peso)\n",
    "        origen: Nodo de partida desde el cual se calcularán las distancias\n",
    "\n",
    "    Retorna:\n",
    "        distancia: Diccionario con la distancia mínima desde 'origen' a cada nodo\n",
    "        predecesor: Diccionario que guarda el nodo anterior en el camino óptimo hacia cada nodo\n",
    "    \"\"\"\n",
    "    \n",
    "    # Implementación del algoritmo de Dijkstra\t"
   ]
  },
  {
   "cell_type": "code",
   "execution_count": null,
   "metadata": {},
   "outputs": [],
   "source": [
    "\n",
    "# Ejemplo de uso:\n",
    "\n",
    "# Representación del grafo: cada nodo tiene una lista de tuplas (vecino, peso)\n",
    "grafo = {\n",
    "    'A': [('B', 1), ('C', 3), ('D', 14)],\n",
    "    'B': [('A', 1), ('C', 3), ('E', 8), ('J', 3), ('F', 5)],\n",
    "    'C': [('A', 3), ('B', 3), ('D', 8), ('E', 4), ('G', 3), ('H', 9)],\n",
    "    'D': [('A', 14), ('C', 8), ('H', 10), ('I', 8)],\n",
    "    'E': [('B', 8), ('C', 4), ('G', 3), ('J', 1)],\n",
    "    'F': [('B', 5), ('F', 6)],\n",
    "    'G': [('C', 3), ('H', 4), ('L', 4), ('K', 2), ('J', 8), ('E', 3)],\n",
    "    'H': [('C', 9), ('D', 10), ('I', 6), ('L', 7), ('G', 4)],\n",
    "    'I': [('D', 8), ('H', 6), ('L', 8), ('M', 2)],\n",
    "    'J': [('F', 6), ('E', 1), ('G', 8), ('K', 8)],\n",
    "    'K': [('J', 8), ('G', 2), ('L', 6)],\n",
    "    'L': [('K', 6), ('G', 4), ('H', 7), ('I', 8), ('M', 4)],\n",
    "    'M': [('L', 4), ('I', 2)]    \n",
    "}\n",
    "\n",
    "origen = 'A'\n",
    "distancias, predecesores = dijkstra(grafo, origen)\n",
    "\n",
    "print(\"Distancias mínimas desde\", origen)\n",
    "for nodo in distancias:\n",
    "    print(f\"  {origen} -> {nodo}: {distancias[nodo]}\")\n",
    "\n",
    "print(\"\\nPredecesores en el camino óptimo:\")\n",
    "for nodo in predecesores:\n",
    "    print(f\"  {nodo}: {predecesores[nodo]}\")\n"
   ]
  },
  {
   "cell_type": "markdown",
   "metadata": {},
   "source": [
    "## Ejercicio 2\n",
    "Implementa una clase llamada Grafo que pueda:\n",
    "- Agregar y quitar nodos y aristas\n",
    "- Graficar el grafo\n",
    "- Implementar el algoritmo de Dijkstra dado un nodo origen \n",
    "- Implementar manejo de errores para aristas negativas y aristas dobles con diferentes valores.\n",
    "- Verifica que el manejo de errores es correcto."
   ]
  },
  {
   "cell_type": "code",
   "execution_count": null,
   "metadata": {},
   "outputs": [],
   "source": []
  },
  {
   "cell_type": "markdown",
   "metadata": {},
   "source": [
    "## Ejercicio 3\n",
    "- ¿Qué sucede si la gráfica no es conexa? \n",
    "\n",
    "Toma el siguiente ejemplo e intenta implementar el algoritmo de Dijkstra en el:"
   ]
  },
  {
   "cell_type": "code",
   "execution_count": 2,
   "metadata": {},
   "outputs": [],
   "source": [
    "grafo_disconexo = {\n",
    "    'A': [('B', 1), ('C', 3), ('D', 14)],\n",
    "    'B': [('A', 1), ('C', 3), ('E', 8), ('J', 3), ('F', 5)],\n",
    "    'C': [('A', 3), ('B', 3), ('D', 8), ('E', 4), ('G', 3), ('H', 9)],\n",
    "    'D': [('A', 14), ('C', 8), ('H', 10), ('I', 8)],\n",
    "    'E': [('B', 8), ('C', 4), ('G', 3), ('J', 1)],\n",
    "    'F': [('B', 5), ('F', 6)],\n",
    "    'G': [('C', 3), ('H', 4), ('L', 4), ('K', 2), ('J', 8), ('E', 3)],\n",
    "    'H': [('C', 9), ('D', 10), ('I', 6), ('L', 7), ('G', 4)],\n",
    "    'I': [('D', 8), ('H', 6), ('L', 8), ('M', 2)],\n",
    "    'J': [('F', 6), ('E', 1), ('G', 8), ('K', 8)],\n",
    "    'K': [('J', 8), ('G', 2), ('L', 6)],\n",
    "    'L': [('K', 6), ('G', 4), ('H', 7), ('I', 8), ('M', 4)],\n",
    "    'M': [('L', 4), ('I', 2)],   \n",
    "    \"N\": [('O', 1)],\n",
    "    'O': [('N', 1)] \n",
    "}"
   ]
  },
  {
   "cell_type": "markdown",
   "metadata": {},
   "source": [
    "- Usa la clase del ejericio 2 para graficar el grafo disconexo.\n",
    "- En términos de la ruta más corta entre ciudades, ¿Qué significa que el grafo sea disconexo?\n",
    "- ¿Cómo puedes arreglar el algoritmo para que funcione con grafos disconexos?"
   ]
  },
  {
   "cell_type": "code",
   "execution_count": 4,
   "metadata": {},
   "outputs": [],
   "source": [
    "def dijkstra_disconexo(grafo, origen):\n",
    "    \"\"\"\n",
    "    Calcula las distancias mínimas desde el nodo 'origen' a todos los demás nodos accesibles del grafo\n",
    "    utilizando el algoritmo de Dijkstra.\n",
    "\n",
    "    Parámetros:\n",
    "        grafo: Diccionario donde cada clave es un nodo y su valor es una lista de tuplas (vecino, peso)\n",
    "        origen: Nodo de partida desde el cual se calcularán las distancias\n",
    "\n",
    "    Retorna:\n",
    "        distancia: Diccionario con la distancia mínima desde 'origen' a cada nodo\n",
    "        predecesor: Diccionario que guarda el nodo anterior en el camino óptimo hacia cada nodo\n",
    "    \"\"\"\n",
    "    \n",
    "    # Implementación del algoritmo de Dijkstra para grafos disconexas"
   ]
  },
  {
   "cell_type": "markdown",
   "metadata": {},
   "source": [
    "## Ejercicio Extra 1\n",
    "- ¿Qué sucede si permitimos aristas con valor negativo? \n",
    "- Investiga el algoritmo Bellman-Ford y agrega su implementación a la clase Grafo del ejercicio 2.\n",
    "- Haz una comparación entre estos dos algoritmos. Discute sus ventajas y desventajas. "
   ]
  },
  {
   "cell_type": "markdown",
   "metadata": {},
   "source": [
    "## Ejercicio Extra 2\n",
    "- Investiga la sintaxis de clases en c++ e implementa la misma clase Grafo pero sin la parte de graficar el grafo.\n",
    "- Implementa tu código en un archivo con nombre `Grafo.cpp`"
   ]
  },
  {
   "cell_type": "markdown",
   "metadata": {},
   "source": [
    "## Ejercicio Extra 3\n",
    "- Implementa el algoritmo Bellman-Ford en la clase Grafo de c++ del ejercicio anterior."
   ]
  }
 ],
 "metadata": {
  "kernelspec": {
   "display_name": "Python 3",
   "language": "python",
   "name": "python3"
  },
  "language_info": {
   "codemirror_mode": {
    "name": "ipython",
    "version": 3
   },
   "file_extension": ".py",
   "mimetype": "text/x-python",
   "name": "python",
   "nbconvert_exporter": "python",
   "pygments_lexer": "ipython3",
   "version": "3.13.1"
  }
 },
 "nbformat": 4,
 "nbformat_minor": 2
}
