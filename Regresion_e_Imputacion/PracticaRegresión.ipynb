{
 "cells": [
  {
   "cell_type": "markdown",
   "metadata": {},
   "source": [
    "# Práctica de Análisis y Modelado de Crecimiento\n",
    "\n",
    "## Objetivos de la Práctica\n",
    "\n",
    "1. **Familiarizarse** con la lectura y exploración de datos de diferentes fenómenos.\n",
    "2. **Aplicar técnicas de regresión** (lineal o transformaciones a modelos exponenciales/potenciales) para explicar o predecir el fenómeno de crecimiento.\n",
    "3. **Interpretar** los resultados y reflexionar sobre la **validez** y **limitaciones** de los modelos, discutiendo la plausibilidad de extrapolaciones.\n",
    "4. **Proponer** mejoras o variables adicionales que puedan influir en el fenómeno de forma no lineal o con saturaciones."
   ]
  },
  {
   "cell_type": "markdown",
   "metadata": {},
   "source": [
    "# Conjunto de datos 1: World Population Growth\n",
    "\n",
    "**Archivo:** `World Population Growth.csv`\n",
    "\n",
    "## Descripción de las columnas\n",
    "\n",
    "- **Año (Year)**: Año del registro (1951-2023).\n",
    "- **Población (Population)**: Entero que indica la población mundial en ese año.\n",
    "- **Crecimiento Anual % (Yearly Growth %)**: Tasa porcentual de crecimiento anual (Float).\n",
    "- **Número (Number)**: Aumento anual en términos absolutos (Entero): cuántas personas se añadieron a la población respecto al año anterior.\n",
    "- **Densidad (Density (Pop/km²))**: Número de individuos por km² (Float)."
   ]
  },
  {
   "cell_type": "markdown",
   "metadata": {},
   "source": [
    "# Ejercicio 1\n"
   ]
  },
  {
   "cell_type": "markdown",
   "metadata": {},
   "source": [
    "## 1. Exploración Inicial\n",
    "\n",
    "- **Cargar** el CSV en un DataFrame y ver `head()`, `tail()`, `info()`.\n",
    "- Revisar la **forma** (tamaño) del dataset con `shape`, los tipos de datos (`dtypes`) y la presencia de valores nulos.\n",
    "- **Cambiar el tipo de dato** de las variables si no son compatibles (por ejemplo, si aparecen como `object` en vez de `int` o `float`).\n",
    "- Calcular estadísticas descriptivas: `mean()`, `std()`, `min()`, `max()`, etc. Usa el método `describe`.\n",
    "- Representar gráficamente la **Población (Population) vs. Año (Year)** para observar la tendencia.\n",
    "  - Pregunta: ¿Se ve como una gráfica exponencial o lineal? ¿La escala afecta la impresión de crecimiento?\n"
   ]
  },
  {
   "cell_type": "markdown",
   "metadata": {},
   "source": [
    "### Cargar CSV y revisar tipos de datos"
   ]
  },
  {
   "cell_type": "code",
   "execution_count": null,
   "metadata": {},
   "outputs": [
    {
     "name": "stdout",
     "output_type": "stream",
     "text": [
      "Forma del dataset: (73, 5)\n"
     ]
    },
    {
     "data": {
      "text/plain": [
       "' Termina el código '"
      ]
     },
     "execution_count": 7,
     "metadata": {},
     "output_type": "execute_result"
    }
   ],
   "source": [
    "import pandas as pd\n",
    "import numpy as np\n",
    "import matplotlib.pyplot as plt\n",
    "\n",
    "# 1) Cargar el CSV en un DataFrame\n",
    "poblacion_mundial = pd.read_csv(\"World_Population_Growth.csv\")\n",
    "\n",
    "# 2) Revisar la forma, tipos y valores nulos\n",
    "print(\"Forma del dataset:\", poblacion_mundial.shape)\n",
    "\n",
    "\n",
    "\"\"\" Termina el código \"\"\""
   ]
  },
  {
   "cell_type": "markdown",
   "metadata": {},
   "source": [
    "Observemos que, las columnas **Población (Population)**, **Crecimiento Anual % (Yearly Growth %)** o **Número (Number)** pueden aparecer como `object` (cadena). Para poder realizar operaciones matemáticas y de regresión, **debemos convertirlas** a tipos numéricos (`int` o `float`).\n",
    "\n",
    "### Explicación del Cambio de Tipo de Datos\n",
    "A continuación, se muestra cómo:\n",
    "1. **Transformar** la columna a `string` (por si algunos registros ya están en otro tipo).\n",
    "2. **Eliminar** símbolos (comas, `%`) que impiden la conversión numérica.\n",
    "3. **Usar** `pd.to_numeric` para asignar un tipo `int` o `float`.\n",
    "4. **Confirmar** que ahora sea numérico (por ejemplo, `float64`).\n"
   ]
  },
  {
   "cell_type": "markdown",
   "metadata": {},
   "source": [
    "#### Población (Population)"
   ]
  },
  {
   "cell_type": "code",
   "execution_count": 8,
   "metadata": {},
   "outputs": [
    {
     "name": "stdout",
     "output_type": "stream",
     "text": [
      "Population dtype: int64\n",
      "   Year  Population\n",
      "0  1951  2543130380\n",
      "1  1952  2590270899\n",
      "2  1953  2640278797\n",
      "3  1954  2691979339\n",
      "4  1955  2746072141\n"
     ]
    }
   ],
   "source": [
    "# Cambiamos 'Population' a str en caso de que algunos registros sean numéricos y otros no.\n",
    "poblacion_mundial['Population'] = poblacion_mundial['Population'].astype(str)\n",
    "\n",
    "# Si hay comas, se sustituyen:\n",
    "poblacion_mundial['Population'] = poblacion_mundial['Population'].str.replace(',', '', regex=True)\n",
    "\n",
    "# Convertimos a numérico (float o int). \n",
    "poblacion_mundial['Population'] = pd.to_numeric(poblacion_mundial['Population'], errors='coerce')\n",
    "\n",
    "# Revisar que ahora sea float64:\n",
    "print(\"Population dtype:\", poblacion_mundial['Population'].dtype)\n",
    "print(poblacion_mundial[['Year','Population']].head())"
   ]
  },
  {
   "cell_type": "markdown",
   "metadata": {},
   "source": [
    "#### Crecimiento Anual % (Yearly Growth %)"
   ]
  },
  {
   "cell_type": "code",
   "execution_count": null,
   "metadata": {},
   "outputs": [],
   "source": [
    "# Forzar la columna a string\n",
    "\n",
    "\"\"\" Termina el código \"\"\"\n",
    "\n",
    "# Reemplazar el símbolo '%'\n",
    "\n",
    "\"\"\" Termina el código \"\"\"\n",
    "\n",
    "# Convertir a float\n",
    "\n",
    "\n",
    "\"\"\" Termina el código \"\"\""
   ]
  },
  {
   "cell_type": "markdown",
   "metadata": {},
   "source": [
    "#### Número (Number)"
   ]
  },
  {
   "cell_type": "code",
   "execution_count": null,
   "metadata": {},
   "outputs": [],
   "source": [
    "# 1) Eliminar comas si las hay\n",
    "\n",
    "\"\"\" Termina el código \"\"\"\n",
    "\n",
    "# 2) Convertir a numérico\n",
    "\n",
    "\"\"\" Termina el código \"\"\"\n",
    "\n",
    "# Verificar tipo\n",
    "\n",
    "\"\"\" Termina el código \"\"\""
   ]
  },
  {
   "cell_type": "markdown",
   "metadata": {},
   "source": [
    "### Estadísticas Descriptivas y Gráfica Inicial"
   ]
  },
  {
   "cell_type": "code",
   "execution_count": 9,
   "metadata": {},
   "outputs": [
    {
     "name": "stdout",
     "output_type": "stream",
     "text": [
      "\n",
      "Estadísticas descriptivas:\n",
      "               Year    Population  Density (Pop/km2)\n",
      "count    73.000000  7.300000e+01          73.000000\n",
      "mean   1987.000000  5.125104e+09          34.383562\n",
      "std      21.217131  1.689156e+09          11.370808\n",
      "min    1951.000000  2.543130e+09          17.000000\n",
      "25%    1969.000000  3.620655e+09          24.000000\n",
      "50%    1987.000000  5.040984e+09          34.000000\n",
      "75%    2005.000000  6.558176e+09          44.000000\n",
      "max    2023.000000  8.045311e+09          54.000000\n"
     ]
    },
    {
     "data": {
      "image/png": "[encoded data removed]",
      "text/plain": [
       "<Figure size 800x400 with 1 Axes>"
      ]
     },
     "metadata": {},
     "output_type": "display_data"
    }
   ],
   "source": [
    "# 3) Estadísticas descriptivas\n",
    "print(\"\\nEstadísticas descriptivas:\\n\", poblacion_mundial.describe())\n",
    "\n",
    "# 4) Gráfica de la Población vs. Año\n",
    "plt.figure(figsize=(8,4))\n",
    "plt.plot(poblacion_mundial['Year'], poblacion_mundial['Population'], marker='o', linestyle='-')\n",
    "plt.title(\"Población Mundial (Population) vs. Año (Year)\")\n",
    "plt.xlabel(\"Año\")\n",
    "plt.ylabel(\"Población\")\n",
    "plt.grid(True)\n",
    "plt.show()"
   ]
  },
  {
   "cell_type": "markdown",
   "metadata": {},
   "source": [
    "## 2. Transformaciones a Modelos Exponenciales\n",
    "\n",
    "- Muchas veces, el crecimiento poblacional se aproxima más a un modelo exponencial (o logístico) que a uno lineal.\n",
    "- Intentar una **regresión logarítmica**:\n",
    "  - Graficar las variables `ln(Population)` vs. `Year`.\n",
    "  - Ajustar una recta.\n",
    "  - Observar si se asemeja a una línea en la escala logarítmica.\n"
   ]
  },
  {
   "cell_type": "code",
   "execution_count": 10,
   "metadata": {},
   "outputs": [
    {
     "name": "stdout",
     "output_type": "stream",
     "text": [
      "Ajuste ln(Population) = a + b*Year\n",
      "a (intercept) = -10.187\n",
      "b (slope)     = 0.016\n"
     ]
    },
    {
     "data": {
      "text/plain": [
       "' Termina el código '"
      ]
     },
     "execution_count": 10,
     "metadata": {},
     "output_type": "execute_result"
    }
   ],
   "source": [
    "# Crear nueva columna ln(Population)\n",
    "poblacion_mundial['ln_poblacion'] = np.log(poblacion_mundial['Population'])\n",
    "\n",
    "# Graficar ln(Population) vs. Year\n",
    "\n",
    "\"\"\" Termina el código \"\"\"\n",
    "\n",
    "# Ajustar una recta con np.polyfit\n",
    "x = poblacion_mundial['Year'].values\n",
    "y = poblacion_mundial['ln_poblacion'].values\n",
    "b, a = np.polyfit(x, y, 1)  # grado=1 => lineal\n",
    "\n",
    "print(\"Ajuste ln(Population) = a + b*Year\")\n",
    "print(f\"a (intercept) = {a:.3f}\")\n",
    "print(f\"b (slope)     = {b:.3f}\")\n",
    "\n",
    "# Graficar la línea sobre los puntos\n",
    "\n",
    "\"\"\" Termina el código \"\"\""
   ]
  },
  {
   "cell_type": "markdown",
   "metadata": {},
   "source": [
    "## 3. Variables Complementarias\n",
    "\n",
    "- El dataset provee la **Crecimiento Anual % (Yearly Growth %)**.\n",
    "  - Realizar **gráficos de dispersión** (pairplots) para ver posibles relaciones.\n",
    "  - ¿Correlaciona con la **Densidad** o con **Número**?\n",
    "  - Discutir: ¿Se justifica un **modelo puramente exponencial** a largo plazo sabiendo que los **recursos del planeta** son finitos?"
   ]
  },
  {
   "cell_type": "code",
   "execution_count": null,
   "metadata": {},
   "outputs": [],
   "source": [
    "import seaborn as sns\n",
    "\n",
    "# Pairplot para ver correlaciones\n",
    "\"\"\" Debes hacer el código de la sección anterior para que esta gráfica este completa \"\"\"\n",
    "sns.pairplot(poblacion_mundial)\n",
    "plt.show()"
   ]
  },
  {
   "cell_type": "markdown",
   "metadata": {},
   "source": [
    "## 4. Cuestionamientos sobre predicciones\n",
    "\n",
    "- ¿Qué pasa si extrapolas la curva exponencial **50 años al futuro**?\n",
    "- ¿Es plausible pensar en un **crecimiento infinito** con recursos finitos?\n",
    "\n",
    "## Preguntas de Reflexión (Extra)\n",
    "- ¿Cómo interpretas el **Crecimiento Anual %** al ver que no es constante en el tiempo?\n",
    "- ¿Hay factores históricos (guerras, epidemias, avances médicos) que podrían justificar rupturas en la tendencia?"
   ]
  },
  {
   "cell_type": "markdown",
   "metadata": {},
   "source": [
    "## Conjunto de datos 2: Lettuce Dataset\n",
    "\n",
    "**Archivo:** `lettuce_dataset.csv`\n",
    "\n",
    "## Descripción de las columnas\n",
    "\n",
    "- **Plant_ID**: Identificador de cada planta.\n",
    "- **Date**: Fecha de la observación.\n",
    "- **Temperatura (°C) [Temperature (°C)]**: Temperatura del ambiente (grados Celsius).\n",
    "- **Humedad (%) [Humidity (%)]**: Nivel de humedad en porcentaje.\n",
    "- **TDS (ppm) [TDS Value (ppm)]**: Sólidos disueltos totales, en partes por millón.\n",
    "- **pH** [pH Level]: pH del agua o medio de cultivo.\n",
    "- **Días de Crecimiento [Growth Days]**: Días transcurridos desde el inicio hasta la cosecha."
   ]
  },
  {
   "cell_type": "markdown",
   "metadata": {},
   "source": [
    "# Ejercicio 2\n",
    "\n",
    "## 1. Exploración y Limpieza\n",
    "\n",
    "- **Importar** el CSV y ver `head()`, `tail()`, `info()`.\n",
    "- Identificar valores nulos; imputar si es necesario.\n",
    "- Ajustar tipos de datos si hay columnas con comillas o caracteres extraños (ej. °C)."
   ]
  },
  {
   "cell_type": "code",
   "execution_count": 11,
   "metadata": {},
   "outputs": [
    {
     "data": {
      "text/html": [
       "<div>\n",
       "<style scoped>\n",
       "    .dataframe tbody tr th:only-of-type {\n",
       "        vertical-align: middle;\n",
       "    }\n",
       "\n",
       "    .dataframe tbody tr th {\n",
       "        vertical-align: top;\n",
       "    }\n",
       "\n",
       "    .dataframe thead th {\n",
       "        text-align: right;\n",
       "    }\n",
       "</style>\n",
       "<table border=\"1\" class=\"dataframe\">\n",
       "  <thead>\n",
       "    <tr style=\"text-align: right;\">\n",
       "      <th></th>\n",
       "      <th>Plant_ID</th>\n",
       "      <th>Date</th>\n",
       "      <th>Temperature (°C)</th>\n",
       "      <th>Humidity (%)</th>\n",
       "      <th>TDS Value (ppm)</th>\n",
       "      <th>pH Level</th>\n",
       "      <th>Growth Days</th>\n",
       "    </tr>\n",
       "  </thead>\n",
       "  <tbody>\n",
       "    <tr>\n",
       "      <th>0</th>\n",
       "      <td>1</td>\n",
       "      <td>8/3/2023</td>\n",
       "      <td>33.4</td>\n",
       "      <td>53</td>\n",
       "      <td>582</td>\n",
       "      <td>6.4</td>\n",
       "      <td>1</td>\n",
       "    </tr>\n",
       "    <tr>\n",
       "      <th>1</th>\n",
       "      <td>1</td>\n",
       "      <td>8/4/2023</td>\n",
       "      <td>33.5</td>\n",
       "      <td>53</td>\n",
       "      <td>451</td>\n",
       "      <td>6.1</td>\n",
       "      <td>2</td>\n",
       "    </tr>\n",
       "    <tr>\n",
       "      <th>2</th>\n",
       "      <td>1</td>\n",
       "      <td>8/5/2023</td>\n",
       "      <td>33.4</td>\n",
       "      <td>59</td>\n",
       "      <td>678</td>\n",
       "      <td>6.4</td>\n",
       "      <td>3</td>\n",
       "    </tr>\n",
       "    <tr>\n",
       "      <th>3</th>\n",
       "      <td>1</td>\n",
       "      <td>8/6/2023</td>\n",
       "      <td>33.4</td>\n",
       "      <td>68</td>\n",
       "      <td>420</td>\n",
       "      <td>6.4</td>\n",
       "      <td>4</td>\n",
       "    </tr>\n",
       "    <tr>\n",
       "      <th>4</th>\n",
       "      <td>1</td>\n",
       "      <td>8/7/2023</td>\n",
       "      <td>33.4</td>\n",
       "      <td>74</td>\n",
       "      <td>637</td>\n",
       "      <td>6.5</td>\n",
       "      <td>5</td>\n",
       "    </tr>\n",
       "  </tbody>\n",
       "</table>\n",
       "</div>"
      ],
      "text/plain": [
       "   Plant_ID      Date  Temperature (°C)  Humidity (%)  TDS Value (ppm)  \\\n",
       "0         1  8/3/2023              33.4            53              582   \n",
       "1         1  8/4/2023              33.5            53              451   \n",
       "2         1  8/5/2023              33.4            59              678   \n",
       "3         1  8/6/2023              33.4            68              420   \n",
       "4         1  8/7/2023              33.4            74              637   \n",
       "\n",
       "   pH Level  Growth Days  \n",
       "0       6.4            1  \n",
       "1       6.1            2  \n",
       "2       6.4            3  \n",
       "3       6.4            4  \n",
       "4       6.5            5  "
      ]
     },
     "execution_count": 11,
     "metadata": {},
     "output_type": "execute_result"
    }
   ],
   "source": [
    "# Lectura con encoding='latin-1' para evitar error con símbolo °\n",
    "data_lettuce = pd.read_csv(\"lettuce_dataset.csv\", encoding=\"latin-1\")\n",
    "\n",
    "\"\"\" Termina el código \"\"\"\n",
    "\n",
    "# Vista inicial:\n",
    "data_lettuce.head()"
   ]
  },
  {
   "cell_type": "markdown",
   "metadata": {},
   "source": [
    "## 2. Promedio de Variables y Modelo de Crecimiento\n",
    "\n",
    "- Para cada **Plant_ID**, calcular los promedios de **Temperatura**, **Humedad**, etc. durante el período.\n",
    "- Asociar esos promedios al **Días de Crecimiento** (Growth Days)."
   ]
  },
  {
   "cell_type": "code",
   "execution_count": 12,
   "metadata": {},
   "outputs": [
    {
     "data": {
      "text/html": [
       "<div>\n",
       "<style scoped>\n",
       "    .dataframe tbody tr th:only-of-type {\n",
       "        vertical-align: middle;\n",
       "    }\n",
       "\n",
       "    .dataframe tbody tr th {\n",
       "        vertical-align: top;\n",
       "    }\n",
       "\n",
       "    .dataframe thead th {\n",
       "        text-align: right;\n",
       "    }\n",
       "</style>\n",
       "<table border=\"1\" class=\"dataframe\">\n",
       "  <thead>\n",
       "    <tr style=\"text-align: right;\">\n",
       "      <th></th>\n",
       "      <th>Temperature (°C)</th>\n",
       "      <th>Humidity (%)</th>\n",
       "      <th>TDS Value (ppm)</th>\n",
       "      <th>pH Level</th>\n",
       "      <th>GrowthDays_Final</th>\n",
       "    </tr>\n",
       "    <tr>\n",
       "      <th>Plant_ID</th>\n",
       "      <th></th>\n",
       "      <th></th>\n",
       "      <th></th>\n",
       "      <th></th>\n",
       "      <th></th>\n",
       "    </tr>\n",
       "  </thead>\n",
       "  <tbody>\n",
       "    <tr>\n",
       "      <th>1</th>\n",
       "      <td>30.628889</td>\n",
       "      <td>63.955556</td>\n",
       "      <td>615.311111</td>\n",
       "      <td>6.382222</td>\n",
       "      <td>45</td>\n",
       "    </tr>\n",
       "    <tr>\n",
       "      <th>2</th>\n",
       "      <td>30.628889</td>\n",
       "      <td>64.600000</td>\n",
       "      <td>596.888889</td>\n",
       "      <td>6.446667</td>\n",
       "      <td>45</td>\n",
       "    </tr>\n",
       "    <tr>\n",
       "      <th>3</th>\n",
       "      <td>30.606383</td>\n",
       "      <td>68.680851</td>\n",
       "      <td>620.404255</td>\n",
       "      <td>6.408511</td>\n",
       "      <td>47</td>\n",
       "    </tr>\n",
       "    <tr>\n",
       "      <th>4</th>\n",
       "      <td>30.645833</td>\n",
       "      <td>63.354167</td>\n",
       "      <td>598.208333</td>\n",
       "      <td>6.433333</td>\n",
       "      <td>48</td>\n",
       "    </tr>\n",
       "    <tr>\n",
       "      <th>5</th>\n",
       "      <td>30.628889</td>\n",
       "      <td>65.066667</td>\n",
       "      <td>577.133333</td>\n",
       "      <td>6.404444</td>\n",
       "      <td>45</td>\n",
       "    </tr>\n",
       "    <tr>\n",
       "      <th>...</th>\n",
       "      <td>...</td>\n",
       "      <td>...</td>\n",
       "      <td>...</td>\n",
       "      <td>...</td>\n",
       "      <td>...</td>\n",
       "    </tr>\n",
       "    <tr>\n",
       "      <th>66</th>\n",
       "      <td>21.333333</td>\n",
       "      <td>64.911111</td>\n",
       "      <td>584.977778</td>\n",
       "      <td>6.348889</td>\n",
       "      <td>45</td>\n",
       "    </tr>\n",
       "    <tr>\n",
       "      <th>67</th>\n",
       "      <td>21.311111</td>\n",
       "      <td>63.688889</td>\n",
       "      <td>618.955556</td>\n",
       "      <td>6.413333</td>\n",
       "      <td>45</td>\n",
       "    </tr>\n",
       "    <tr>\n",
       "      <th>68</th>\n",
       "      <td>21.600000</td>\n",
       "      <td>65.133333</td>\n",
       "      <td>602.311111</td>\n",
       "      <td>6.411111</td>\n",
       "      <td>45</td>\n",
       "    </tr>\n",
       "    <tr>\n",
       "      <th>69</th>\n",
       "      <td>21.375556</td>\n",
       "      <td>62.911111</td>\n",
       "      <td>601.533333</td>\n",
       "      <td>6.397778</td>\n",
       "      <td>45</td>\n",
       "    </tr>\n",
       "    <tr>\n",
       "      <th>70</th>\n",
       "      <td>21.773913</td>\n",
       "      <td>65.043478</td>\n",
       "      <td>587.760870</td>\n",
       "      <td>6.419565</td>\n",
       "      <td>46</td>\n",
       "    </tr>\n",
       "  </tbody>\n",
       "</table>\n",
       "<p>70 rows × 5 columns</p>\n",
       "</div>"
      ],
      "text/plain": [
       "          Temperature (°C)  Humidity (%)  TDS Value (ppm)  pH Level  \\\n",
       "Plant_ID                                                              \n",
       "1                30.628889     63.955556       615.311111  6.382222   \n",
       "2                30.628889     64.600000       596.888889  6.446667   \n",
       "3                30.606383     68.680851       620.404255  6.408511   \n",
       "4                30.645833     63.354167       598.208333  6.433333   \n",
       "5                30.628889     65.066667       577.133333  6.404444   \n",
       "...                    ...           ...              ...       ...   \n",
       "66               21.333333     64.911111       584.977778  6.348889   \n",
       "67               21.311111     63.688889       618.955556  6.413333   \n",
       "68               21.600000     65.133333       602.311111  6.411111   \n",
       "69               21.375556     62.911111       601.533333  6.397778   \n",
       "70               21.773913     65.043478       587.760870  6.419565   \n",
       "\n",
       "          GrowthDays_Final  \n",
       "Plant_ID                    \n",
       "1                       45  \n",
       "2                       45  \n",
       "3                       47  \n",
       "4                       48  \n",
       "5                       45  \n",
       "...                    ...  \n",
       "66                      45  \n",
       "67                      45  \n",
       "68                      45  \n",
       "69                      45  \n",
       "70                      46  \n",
       "\n",
       "[70 rows x 5 columns]"
      ]
     },
     "execution_count": 12,
     "metadata": {},
     "output_type": "execute_result"
    }
   ],
   "source": [
    "# Agrupar por Plant_ID y calcular promedio\n",
    "grouped_lettuce = data_lettuce.groupby('Plant_ID').agg({\n",
    "    'Temperature (°C)': 'mean',\n",
    "    'Humidity (%)': 'mean',\n",
    "    'TDS Value (ppm)': 'mean',\n",
    "    'pH Level': 'mean',\n",
    "})\n",
    "\n",
    "# Días finales (max) para cada planta\n",
    "growth_days_end = data_lettuce.groupby('Plant_ID')['Growth Days'].max()\n",
    "\n",
    "df_averages = grouped_lettuce.copy()\n",
    "df_averages['GrowthDays_Final'] = growth_days_end\n",
    "\n",
    "df_averages"
   ]
  },
  {
   "cell_type": "markdown",
   "metadata": {},
   "source": [
    "## 3. Filtrado\n",
    "\n",
    "- Filtrar datos donde **Temperatura (°C) > 25** y **Humedad (%) > 50**.\n",
    "- Comparar la media de Días de Crecimiento en esas condiciones."
   ]
  },
  {
   "cell_type": "code",
   "execution_count": null,
   "metadata": {},
   "outputs": [],
   "source": [
    "# Filtro\n",
    "\n",
    "\"\"\" Termina el código \"\"\"\n",
    "\n",
    "# Comparar Growth Days\n",
    "\n",
    "\"\"\" Termina el código \"\"\"\n"
   ]
  }
 ],
 "metadata": {
  "kernelspec": {
   "display_name": "Python 3",
   "language": "python",
   "name": "python3"
  },
  "language_info": {
   "codemirror_mode": {
    "name": "ipython",
    "version": 3
   },
   "file_extension": ".py",
   "mimetype": "text/x-python",
   "name": "python",
   "nbconvert_exporter": "python",
   "pygments_lexer": "ipython3",
   "version": "3.13.1"
  }
 },
 "nbformat": 4,
 "nbformat_minor": 2
}
