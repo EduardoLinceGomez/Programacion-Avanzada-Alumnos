{
 "cells": [
  {
   "cell_type": "markdown",
   "id": "7dd7dce6",
   "metadata": {},
   "source": [
    "# Ejercicios de Regresión y Filtrado de Datos\n",
    "\n",
    "Este cuaderno contiene ejercicios relacionados con el conjunto de datos de viajes en taxi (`taxi_trip_pricing.csv`).\n",
    "\n",
    "Se abordarán los siguientes temas:\n",
    "1. **Regresión Lineal Simple** (Distance vs. Fare Amount)\n",
    "2. **Filtrado de Datos** para casos de condiciones de tráfico y clima.\n",
    "3. **Interpretación** de resultados de la regresión.\n",
    "4. **Imputación de Datos**: Reflexiones y prácticas adicionales.\n",
    "\n",
    "---"
   ]
  },
  {
   "cell_type": "markdown",
   "id": "bc873036",
   "metadata": {},
   "source": [
    "## 1. Preparación del Entorno\n",
    "En primer lugar, debemos **cargar** las librerías necesarias y **leer** el archivo `taxi_trip_pricing.csv`.\n",
    "\n",
    "### Tareas de este apartado:\n",
    "- Instalar o importar **pandas**, **numpy**, **matplotlib** y (opcionalmente) **seaborn**.\n",
    "- Leer el CSV, guardarlo en un DataFrame `data`.\n",
    "- Revisar si hay valores nulos y, si lo deseas, imputarlos (por ejemplo, usando la moda o la media, según corresponda).\n",
    "\n",
    "Rellena la siguiente celda con tu código."
   ]
  },
  {
   "cell_type": "code",
   "execution_count": null,
   "id": "c931efee",
   "metadata": {},
   "outputs": [],
   "source": [
    "# Sugerencia:\n",
    "import pandas as pd\n",
    "import numpy as np\n",
    "import matplotlib.pyplot as plt\n",
    "import seaborn as sns\n",
    "\n",
    "# data = \n",
    "\n",
    "# Comprobar la forma y valores nulos.\n",
    "\n",
    "# Codigo para comprobar la forma y valores nulos\n",
    "\n",
    "# Imputación \n",
    "\n",
    "# Codigo para imputación"
   ]
  },
  {
   "cell_type": "markdown",
   "id": "eb86a83e",
   "metadata": {},
   "source": [
    "## 2. Regresión Lineal Simple: Distancia vs. Costo\n",
    "\n",
    "**Objetivo**: Ajustar un **modelo lineal** del tipo \n",
    "**Fare Amount** = a + b (**Distance**).\n",
    "\n",
    "### Pasos sugeridos:\n",
    "1. Selecciona las columnas **`Distance`** y **`Fare Amount`** de `data`.\n",
    "2. Realiza un **scatter plot** para visualizar la relación.\n",
    "3. Usa un método de **regresión lineal**(sin librerias) para obtener los parámetros \\(a\\) y \\(b\\).\n",
    "4. Imprime los resultados y **discute**:\n",
    "   - ¿Qué significa la pendiente \\(b\\) en el contexto del precio?\n",
    "   - ¿Qué representa \\(a\\)? (el intercepto)\n",
    "\n",
    "Rellena el siguiente bloque con tu implementación."
   ]
  },
  {
   "cell_type": "code",
   "execution_count": null,
   "id": "122a4efa",
   "metadata": {},
   "outputs": [],
   "source": [
    "# Sugerencia con numpy:\n",
    "x = data['Distance'].values\n",
    "y = data['Fare Amount'].values"
   ]
  },
  {
   "cell_type": "code",
   "execution_count": null,
   "id": "554460ec",
   "metadata": {},
   "outputs": [],
   "source": [
    "# Visualización con scatter plot.\n",
    "plt.scatter(x, y, alpha=0.3, label=\"Datos\")\n",
    "plt.plot(x, a + b*x, color='red', label=\"Ajuste lineal\")\n",
    "plt.legend()\n",
    "plt.xlabel(\"Distancia (km)\")\n",
    "plt.ylabel(\"Fare Amount (USD)\")\n",
    "plt.show()"
   ]
  },
  {
   "cell_type": "markdown",
   "id": "fcd8a92f",
   "metadata": {},
   "source": [
    "### ¿Qué puedes decir de la gráfica?"
   ]
  },
  {
   "cell_type": "markdown",
   "id": "2d1e716c",
   "metadata": {},
   "source": [
    "### Regresión con librerias"
   ]
  },
  {
   "cell_type": "code",
   "execution_count": null,
   "id": "dfcffbc6",
   "metadata": {},
   "outputs": [],
   "source": [
    "\n",
    "# Con sklearn:\n",
    "from sklearn.linear_model import LinearRegression\n",
    "model = LinearRegression()\n",
    "model.fit(x.reshape(-1,1), y)\n",
    "print(\"Intercepto:\", model.intercept_)\n",
    "print(\"Pendiente:\", model.coef_[0])\n"
   ]
  },
  {
   "cell_type": "markdown",
   "id": "c8b8d3e8",
   "metadata": {},
   "source": [
    "## Preguntas de Interpretación\n",
    "1. **¿Cuál es la pendiente** y cómo la interpretas en términos de dólares por kilómetro?\n",
    "2. **¿Crees que sea razonable** para viajes muy cortos (cercanos a 0 km)? ¿Qué podría implicar el intercepto?\n",
    "3. **¿Son realistas** estos parámetros para todo el rango de distancias, o crees que en trayectos muy largos se requeriría un modelo distinto?\n",
    "4. Con base en tu experiencia con taxis, ¿dónde fallaría el modelo lineal?\n",
    "\n",
    "Reflexiona brevemente y, si deseas, anota tus comentarios en la siguiente celda."
   ]
  },
  {
   "cell_type": "markdown",
   "id": "d95bd73e",
   "metadata": {},
   "source": [
    "## 3. Filtrar Datos por Tráfico y Condiciones Climáticas\n",
    "A veces, los precios dependen no solo de la distancia, sino también de **variables categóricas** como **`Traffic Condition`** o **`Weather Condition`**.\n",
    "\n",
    "### Ejercicio:\n",
    "1. Filtra los datos **cuando el tráfico sea intenso**.\n",
    "2. Realiza **otra** regresión lineal (Distance vs. Fare Amount) **usando solo** los datos filtrados.\n",
    "3. Compara la **pendiente** con la situación general. ¿Sube o baja el precio por km bajo tráfico intenso?\n",
    "4. Haz algo similar con una condición climática (por ejemplo, `'Weather Condition' == 'lluvia'`).\n",
    "\n",
    "Completa la celda siguiente con tu código y análisis."
   ]
  },
  {
   "cell_type": "code",
   "execution_count": null,
   "id": "fcb59fe0",
   "metadata": {},
   "outputs": [],
   "source": [
    "# Filtrar datos y realizar regresiones adicionales.\n",
    "\n",
    "# data_intenso = data[data['Traffic Condition'] == 'intenso']\n",
    "# ... \n",
    "# Aplica un scatter\n",
    "\n",
    "# data_lluvia = data[data['Weather Condition'] == 'lluvia']\n",
    "# ...\n"
   ]
  },
  {
   "cell_type": "markdown",
   "id": "a52688ef",
   "metadata": {},
   "source": [
    "## Interpretación Adicional\n",
    "1. **¿Cómo cambia** la pendiente (costo por km) cuando se filtra por tráfico bajo?\n",
    "2. **¿El intercepto** varía significativamente?\n",
    "3. **¿Crees** que haya interacción con la hora del día o con la duración del viaje?\n",
    "\n",
    "Puedes anotar tus ideas aquí."
   ]
  },
  {
   "cell_type": "markdown",
   "id": "a90144ca",
   "metadata": {},
   "source": [
    "#  Anota conclusiones personales\n",
    "## (Escribe tu análisis)\n"
   ]
  },
  {
   "cell_type": "markdown",
   "id": "f4aa1a54",
   "metadata": {},
   "source": [
    "## 4. (Opcional) Proponer Variable de Consumo de Combustible\n",
    "Imagina que, además de la **tarifa** del viaje, se registra un **Consumo de Combustible** (Fuel Consumption) en litros por viaje. ¿Cómo podríamos relacionar esa variable con:\n",
    "1. **Distance** (podría ser lineal, exponencial o potencia, dependiendo del estilo de conducción, tráfico, etc.)\n",
    "2. **Trip Duration**\n",
    "3. **Traffic Condition** (en tráfico intenso, quizás el consumo sea más alto por el ralentí prolongado y arranques frecuentes)\n",
    "\n",
    "### Preguntas:\n",
    "- Si **Fuel Consumption** creciera de forma **no lineal** con la distancia (por ejemplo, aumenta más que proporcionalmente en tráfico denso), ¿qué tipo de modelo usarías?\n",
    "- ¿Te parece más **exponencial** o **potencial**? ¿Por qué?\n",
    "\n",
    "Escribe tus reflexiones aquí."
   ]
  },
  {
   "cell_type": "markdown",
   "id": "463cda76",
   "metadata": {},
   "source": [
    "# Reflexiona sobre variable \"Fuel Consumption\"\n"
   ]
  },
  {
   "cell_type": "markdown",
   "id": "aecc4f66",
   "metadata": {},
   "source": [
    "## Conclusiones Generales\n",
    "En este cuaderno se practicó:\n",
    "- La **regresión lineal** en un escenario simplificado (Distance vs. Fare).\n",
    "- El **filtrado** de datos (tráfico intenso, clima lluvioso).\n",
    "- **Reflexiones** sobre el **consumo de combustible** como variable adicional de posible relación no lineal.\n",
    "- Un ejercicio opcional de **imputación** de datos para ver cómo afecta a la regresión.\n",
    "\n",
    "La clave es **interpretar** los resultados y las **limitaciones** de cada modelo y cada estrategia de imputación."
   ]
  }
 ],
 "metadata": {
  "kernelspec": {
   "display_name": "Python 3 (ipykernel)",
   "language": "python",
   "name": "python3"
  },
  "language_info": {
   "codemirror_mode": {
    "name": "ipython",
    "version": 3
   },
   "file_extension": ".py",
   "mimetype": "text/x-python",
   "name": "python",
   "nbconvert_exporter": "python",
   "pygments_lexer": "ipython3",
   "version": "3.9"
  }
 },
 "nbformat": 4,
 "nbformat_minor": 5
}
